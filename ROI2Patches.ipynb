{
  "nbformat": 4,
  "nbformat_minor": 0,
  "metadata": {
    "colab": {
      "name": "ROI2Patches.ipynb",
      "provenance": [],
      "machine_shape": "hm",
      "authorship_tag": "ABX9TyOlGxQmD2EPFMCKI1P062+5",
      "include_colab_link": true
    },
    "kernelspec": {
      "name": "python3",
      "display_name": "Python 3"
    }
  },
  "cells": [
    {
      "cell_type": "markdown",
      "metadata": {
        "id": "view-in-github",
        "colab_type": "text"
      },
      "source": [
        "<a href=\"https://colab.research.google.com/github/cbachen1997/CAUstudy/blob/master/ROI2Patches.ipynb\" target=\"_parent\"><img src=\"https://colab.research.google.com/assets/colab-badge.svg\" alt=\"Open In Colab\"/></a>"
      ]
    },
    {
      "cell_type": "code",
      "metadata": {
        "id": "FqfNaItrBxSX"
      },
      "source": [
        "#挂载谷歌云盘\n",
        "from google.colab import drive\n",
        "drive.mount('/content/gdrive')\n",
        "####google云盘授权#####\n",
        "##每个notebook执行一次###\n",
        "__author__='CBA'\n",
        "from google.colab import drive\n",
        "\n",
        "#增加PyDrive操作库\n",
        "from pydrive.auth import GoogleAuth\n",
        "from pydrive.drive import GoogleDrive\n",
        "from google.colab import auth\n",
        "from oauth2client.client import GoogleCredentials\n",
        "\n",
        "#授权登录\n",
        "auth.authenticate_user()\n",
        "gauth=GoogleAuth()"
      ],
      "execution_count": null,
      "outputs": []
    },
    {
      "cell_type": "code",
      "metadata": {
        "colab": {
          "base_uri": "https://localhost:8080/"
        },
        "id": "ypFoMrQJB6Ki",
        "outputId": "0013d5a3-354e-4dbf-8b36-19f5c991c9f0"
      },
      "source": [
        "import os\n",
        "os.chdir(\"/content/gdrive/MyDrive/CM\")\n",
        "print (os.path.abspath('.')) #获取当前工作目录路径\n",
        "print(os.listdir('.'))"
      ],
      "execution_count": null,
      "outputs": [
        {
          "output_type": "stream",
          "text": [
            "/content/gdrive/MyDrive/CM\n",
            "['models.py', 'data_util.py', 'main.py', 'ops.py', 'img', 'roi_patches', 'model.ipynb', 'ROI2Patches.ipynb', 'GetTriplet.ipynb']\n"
          ],
          "name": "stdout"
        }
      ]
    },
    {
      "cell_type": "code",
      "metadata": {
        "id": "X6gmMg4WCQFv"
      },
      "source": [
        "from __future__ import print_function, division\n",
        "import numpy as np\n",
        "import tifffile as tiff\n",
        "from PIL import Image\n",
        "import codecs\n",
        "import os\n",
        "import cv2\n",
        "import scipy.io as sio\n",
        "from keras.utils.np_utils import to_categorical\n",
        "from scipy.cluster.vq import whiten\n",
        "import matplotlib.pyplot as plt\n",
        "from tqdm import tqdm\n",
        "import tensorflow as tf\n"
      ],
      "execution_count": null,
      "outputs": []
    },
    {
      "cell_type": "code",
      "metadata": {
        "id": "kE40NAyD6ZVi"
      },
      "source": [
        "#常数设置\n",
        "r=5#pad半径\n",
        "save_path='/content/gdrive/MyDrive/CM'"
      ],
      "execution_count": null,
      "outputs": []
    },
    {
      "cell_type": "code",
      "metadata": {
        "id": "ZMfz4PYHCTR3"
      },
      "source": [
        "def read_image(filename):\n",
        "  img = tiff.imread(filename)\n",
        "  img = np.asarray(img, dtype=np.float32)\n",
        "  return img"
      ],
      "execution_count": null,
      "outputs": []
    },
    {
      "cell_type": "code",
      "metadata": {
        "id": "l2-paNm8OION"
      },
      "source": [
        "def sample_normalization(data):\n",
        "    \"\"\"\n",
        "    normalize each sample to 0-1\n",
        "    Input:\n",
        "        sample\n",
        "    Output:\n",
        "        Normalized sample\n",
        "    \"\"\"\n",
        "    if np.max(data) == np.min(data):\n",
        "        return np.ones_like(data, dtype=np.float32) * 1e-6\n",
        "    else:\n",
        "        return 1.0 * (data - np.min(data)) / (np.max(data) - np.min(data))"
      ],
      "execution_count": null,
      "outputs": []
    },
    {
      "cell_type": "code",
      "metadata": {
        "id": "BWJ2PXASWkEV"
      },
      "source": [
        "def save_img_patch(img_patch, classes, i, j,save_path=save_path):\n",
        "  print(img_patch.shape)\n",
        "  img_patch_name = 'patch' + '_' + str(i) + '_' + str(j) +'_'+str(classes)+ '.png'\n",
        "  img_patch_save_path = save_path + '/' + img_patch_name\n",
        "  cv2.imwrite(img_patch_save_path, img_patch)\n",
        "  return True"
      ],
      "execution_count": null,
      "outputs": []
    },
    {
      "cell_type": "code",
      "metadata": {
        "id": "ndsfkXMLCazv"
      },
      "source": [
        "def create_patches(img_path,roi_img_path):\n",
        "  lst_img=read_image(img_path)\n",
        "  train_img=read_image(roi_img_path)\n",
        "  #pad以防止roi出现在边界\n",
        "  lst_img=np.pad(lst_img,((r,r),(r,r),(0,0)),'symmetric')\n",
        "  #灰度图不能直接pad\n",
        "  train_img=cv2.cvtColor(train_img, cv2.COLOR_GRAY2BGR)\n",
        "  train_img=np.pad(train_img,((r,r),(r,r),(0,0)),'constant',constant_values=(0,0))\n",
        "  train_img=train_img[:,:,0]\n",
        "  #Norm\n",
        "  lst_img = sample_normalization(lst_img)\n",
        "  lst_img = (lst_img - np.mean(lst_img))\n",
        "  X=[]\n",
        "  Y=[]\n",
        "  count=0\n",
        "  #roi坐标打乱\n",
        "  idx,idy=np.where(train_img!=0)\n",
        "  ID = np.random.permutation(len(idx))#样本点打乱排序\n",
        "  idx=idx[ID]\n",
        "  idy=idy[ID]\n",
        "  #莫名操作?\n",
        "  # per=0.89\n",
        "  # idx = idx[:int(per*len(idx))]\n",
        "  # idy = idy[:int(per*len(idy))]\n",
        "  print('获取roi_patches中')\n",
        "  for i in tqdm(range(len(idx))):\n",
        "    tmp_lst=lst_img[idx[i]-r:idx[i]+r+1,idy[i]-r:idy[i]+r+1,:]\n",
        "    tmpy=train_img[idx[i], idy[i]]\n",
        "    if (tmpy == 3):\n",
        "      tmpy=1\n",
        "    else:\n",
        "      tmpy=0\n",
        "    X.append(tmp_lst)\n",
        "    Y.append(tmpy)\n",
        "    count+=1\n",
        "  X = np.asarray(X, dtype=np.float32)\n",
        "  Y = np.asarray(Y, dtype=np.int8)\n",
        "  return X,Y"
      ],
      "execution_count": null,
      "outputs": []
    },
    {
      "cell_type": "code",
      "metadata": {
        "id": "vasvm2IaDz3L"
      },
      "source": [
        "landsat_img_path='/content/gdrive/MyDrive/CM/img/ResearchAreaTIF.tif'\n",
        "train_img_path='/content/gdrive/MyDrive/CM/img/train_labels.tif'"
      ],
      "execution_count": null,
      "outputs": []
    },
    {
      "cell_type": "code",
      "metadata": {
        "id": "y3pKs6P8xy5l"
      },
      "source": [
        "origin=read_image(landsat_img_path)"
      ],
      "execution_count": null,
      "outputs": []
    },
    {
      "cell_type": "code",
      "metadata": {
        "colab": {
          "base_uri": "https://localhost:8080/"
        },
        "id": "x-PATJVHx7SN",
        "outputId": "2dbc3999-91d0-4864-e0a0-a5a0311216cd"
      },
      "source": [
        "origin.shape"
      ],
      "execution_count": null,
      "outputs": [
        {
          "output_type": "execute_result",
          "data": {
            "text/plain": [
              "(7921, 7801, 7)"
            ]
          },
          "metadata": {
            "tags": []
          },
          "execution_count": 16
        }
      ]
    },
    {
      "cell_type": "code",
      "metadata": {
        "id": "u7SIDlV4xoyO"
      },
      "source": [
        "import random\n",
        "import itertools\n",
        "n=1000#随机样本数\n",
        "def create_unlabeled_tif(tifshape,n=n):\n",
        "  height=tifshape[0]\n",
        "  width=tifshape[1]\n",
        "  unlabeled=np.zeros((height,width))\n",
        "  random_list = list((itertools.product(range(1,height),range(1,width))))#所有组合\n",
        "  random_point=random.sample(random_list, n)\n",
        "  \n",
        "  for i,j in random_point:\n",
        "    unlabeled[i,j]=1\n",
        "  return unlabeled"
      ],
      "execution_count": null,
      "outputs": []
    },
    {
      "cell_type": "code",
      "metadata": {
        "id": "42HNwkTbzrmb"
      },
      "source": [
        "unlabeled_sample=create_unlabeled_tif(origin.shape)"
      ],
      "execution_count": null,
      "outputs": []
    },
    {
      "cell_type": "code",
      "metadata": {
        "id": "YscGFJG_2qYm"
      },
      "source": [
        "tiff.imsave('/content/gdrive/MyDrive/CM/unlabeled_patches/unlabeled_sample.tif',unlabeled_sample)"
      ],
      "execution_count": null,
      "outputs": []
    },
    {
      "cell_type": "code",
      "metadata": {
        "id": "K2fXl6xV3Hqr"
      },
      "source": [
        "unlabeled_path='/content/gdrive/MyDrive/CM/unlabeled_patches/unlabeled_sample.tif'"
      ],
      "execution_count": null,
      "outputs": []
    },
    {
      "cell_type": "code",
      "metadata": {
        "id": "iI_IYzK92LFG"
      },
      "source": [
        "X,Y=create_patches(landsat_img_path,unlabeled_path)"
      ],
      "execution_count": null,
      "outputs": []
    },
    {
      "cell_type": "code",
      "metadata": {
        "id": "8LFZ7LFMVMY0"
      },
      "source": [
        "X,Y=create_patches(landsat_img_path,train_img_path)"
      ],
      "execution_count": null,
      "outputs": []
    },
    {
      "cell_type": "code",
      "metadata": {
        "id": "dFJJa2dPjolw"
      },
      "source": [
        "np.save(save_path+'/'+'unlabeled_X.npy', X)\n",
        "# np.save(save_path+'/'+'test_Y_new.npy', Y)"
      ],
      "execution_count": null,
      "outputs": []
    },
    {
      "cell_type": "code",
      "metadata": {
        "id": "v0_Q1oh-jn0Z"
      },
      "source": [
        "X_train_path = '/content/gdrive/MyDrive/CM/roi_patches/test_X_new.npy'\n",
        "Y_train_path = '/content/gdrive/MyDrive/CM/roi_patches/test_Y_new.npy'"
      ],
      "execution_count": null,
      "outputs": []
    },
    {
      "cell_type": "code",
      "metadata": {
        "id": "dE_7Q3dBwnxG"
      },
      "source": [
        "X_train = tf.keras.utils.to_categorical(np.load(X_train_path))\n",
        "Y_train = tf.keras.utils.to_categorical(np.load(Y_train_path))"
      ],
      "execution_count": null,
      "outputs": []
    },
    {
      "cell_type": "code",
      "metadata": {
        "colab": {
          "base_uri": "https://localhost:8080/"
        },
        "id": "9PcTnYM8wru6",
        "outputId": "a15b64f8-4ef3-4739-dc5c-526f025b055b"
      },
      "source": [
        "X_train.shape"
      ],
      "execution_count": null,
      "outputs": [
        {
          "output_type": "execute_result",
          "data": {
            "text/plain": [
              "(454, 11, 11, 7, 3)"
            ]
          },
          "metadata": {
            "tags": []
          },
          "execution_count": 17
        }
      ]
    },
    {
      "cell_type": "code",
      "metadata": {
        "id": "I9OQz4VLwtEL"
      },
      "source": [
        ""
      ],
      "execution_count": null,
      "outputs": []
    }
  ]
}