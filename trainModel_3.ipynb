{
  "nbformat": 4,
  "nbformat_minor": 0,
  "metadata": {
    "accelerator": "TPU",
    "colab": {
      "name": "trainModel_3.ipynb",
      "provenance": [],
      "collapsed_sections": [
        "4FnmPLTcnAzu"
      ],
      "machine_shape": "hm",
      "authorship_tag": "ABX9TyMTvRlbo8N7SxctZno+G4im",
      "include_colab_link": true
    },
    "kernelspec": {
      "display_name": "Python 3",
      "name": "python3"
    },
    "language_info": {
      "name": "python"
    }
  },
  "cells": [
    {
      "cell_type": "markdown",
      "metadata": {
        "id": "view-in-github",
        "colab_type": "text"
      },
      "source": [
        "<a href=\"https://colab.research.google.com/github/cbachen1997/CAUstudy/blob/master/trainModel_3.ipynb\" target=\"_parent\"><img src=\"https://colab.research.google.com/assets/colab-badge.svg\" alt=\"Open In Colab\"/></a>"
      ]
    },
    {
      "cell_type": "markdown",
      "metadata": {
        "id": "DBpz4_WfMqpv"
      },
      "source": [
        "##基础部分"
      ]
    },
    {
      "cell_type": "code",
      "metadata": {
        "colab": {
          "base_uri": "https://localhost:8080/"
        },
        "id": "Mo8Y3L22LRO2",
        "outputId": "be4d625f-f61c-4b13-b48d-5d8f341ef483"
      },
      "source": [
        "#挂载谷歌云盘\n",
        "from google.colab import drive\n",
        "drive.mount('/content/gdrive')\n",
        "####google云盘授权#####\n",
        "##每个notebook执行一次###\n",
        "__author__='CBA'\n",
        "from google.colab import drive\n",
        "\n",
        "#增加PyDrive操作库|\n",
        "from pydrive.auth import GoogleAuth\n",
        "from pydrive.drive import GoogleDrive\n",
        "from google.colab import auth\n",
        "from oauth2client.client import GoogleCredentials\n",
        "\n",
        "#授权登录\n",
        "auth.authenticate_user()\n",
        "gauth=GoogleAuth()"
      ],
      "execution_count": null,
      "outputs": [
        {
          "output_type": "stream",
          "text": [
            "Drive already mounted at /content/gdrive; to attempt to forcibly remount, call drive.mount(\"/content/gdrive\", force_remount=True).\n"
          ],
          "name": "stdout"
        }
      ]
    },
    {
      "cell_type": "code",
      "metadata": {
        "id": "1ON38QOBMuac"
      },
      "source": [
        "# !pip uninstall keras -y\n",
        "# !pip uninstall keras-nightly -y\n",
        "# !pip uninstall keras-Preprocessing -y\n",
        "# !pip uninstall keras-vis -y\n",
        "# !pip uninstall tensorflow -y\n",
        "\n",
        "# !pip install tensorflow==2.3.0\n",
        "# !pip install keras==2.4\n",
        "# !pip install -U efficientnet"
      ],
      "execution_count": null,
      "outputs": []
    },
    {
      "cell_type": "code",
      "metadata": {
        "colab": {
          "base_uri": "https://localhost:8080/"
        },
        "id": "w1EilHJqNeVi",
        "outputId": "17a46457-8ee7-47fa-a7d1-f85f60427c71"
      },
      "source": [
        "import tensorflow as tf\n",
        "from sklearn.utils import shuffle\n",
        "import tifffile as tiff\n",
        "from tensorflow import keras as K\n",
        "import tensorflow.keras.layers as L\n",
        "import numpy as np\n",
        "import os\n",
        "import time\n",
        "import h5py\n",
        "import argparse \n",
        "import random\n",
        "import cv2\n",
        "from tqdm import *\n",
        "from tensorflow.keras.callbacks import ModelCheckpoint\n",
        "from tensorflow.keras.callbacks import EarlyStopping\n",
        "from tensorflow.keras.callbacks import LambdaCallback\n",
        "# from keras.callbacks import TensorBoard\n",
        "from tensorflow.keras import regularizers\n",
        "from tensorflow.keras.models import Model\n",
        "from __future__ import print_function, division\n",
        "from tensorflow.keras.layers import *\n",
        "# from keras.layers import Dense,Dropout\n",
        "from sklearn.utils import shuffle\n",
        "# from keras.layers.core import Flatten\n",
        "from tensorflow.keras.utils import to_categorical\n",
        "from tensorflow.keras.layers import Conv2D\n",
        "from tensorflow.keras.layers import LeakyReLU\n",
        "# from tensorflow.keras.layers.core import Lambda\n",
        "from tensorflow.keras import backend as Kb\n",
        "from collections import Counter\n",
        "from tensorflow.keras.activations import relu,softmax\n",
        "from keras.utils import plot_model\n",
        "#网络\n",
        "import efficientnet.keras as efn\n",
        "from keras.layers.wrappers import Bidirectional\n",
        "import matplotlib.pyplot as plt\n"
      ],
      "execution_count": null,
      "outputs": [
        {
          "output_type": "stream",
          "text": [
            "Using TensorFlow backend.\n"
          ],
          "name": "stderr"
        }
      ]
    },
    {
      "cell_type": "markdown",
      "metadata": {
        "id": "4FnmPLTcnAzu"
      },
      "source": [
        "##参数"
      ]
    },
    {
      "cell_type": "code",
      "metadata": {
        "id": "zzkWDUHAnBgw"
      },
      "source": [
        "inputShape = (224,224,3)\n",
        "# inputShape = (380,380,3)\n",
        "inputShapeLSTM = (4,1000)\n",
        "TIME_STEPS = 4\n",
        "SINGLE_ATTENTION_VECTOR = False"
      ],
      "execution_count": null,
      "outputs": []
    },
    {
      "cell_type": "markdown",
      "metadata": {
        "id": "1F2QPvEQOduB"
      },
      "source": [
        "#MDN-CNN部分（Non-local)"
      ]
    },
    {
      "cell_type": "code",
      "metadata": {
        "id": "MfNfCQzqOpB6"
      },
      "source": [
        "def BN_LeakyReLU(input):\n",
        "  norm = BatchNormalization(axis=-1)(input)\n",
        "  output = LeakyReLU(alpha=0.2)(norm)\n",
        "  \n",
        "  return output\n",
        "\n",
        "def MDCN(input_layers, n_filters):\n",
        "    \n",
        "  # stream_left\n",
        "  conv_left = Conv2D(n_filters, (3, 3), padding='same', dilation_rate = 4, kernel_initializer='he_normal',\n",
        "                      kernel_regularizer=regularizers.l2(0.0001))(input_layers)\n",
        "  conv_left = BN_LeakyReLU(conv_left)\n",
        "  # stream_middle_up\n",
        "  conv_middle_1 = Conv2D(n_filters, (3, 3), padding='same', dilation_rate = 3, kernel_initializer='he_normal',\n",
        "                          kernel_regularizer=regularizers.l2(0.0001))(input_layers)\n",
        "  conv_middle_1 = BN_LeakyReLU(conv_middle_1)\n",
        "  # stream_right_up\n",
        "  conv_right_1 = Conv2D(n_filters, (3, 3), padding='same', dilation_rate = 2, kernel_initializer='he_normal',\n",
        "                        kernel_regularizer=regularizers.l2(0.0001))(input_layers)\n",
        "  conv_right_1 = BN_LeakyReLU(conv_right_1)\n",
        "  conv_right_2 = Conv2D(n_filters, (3, 3), padding='same', dilation_rate = 2, kernel_initializer='he_normal',\n",
        "                        kernel_regularizer=regularizers.l2(0.0001))(conv_right_1)\n",
        "  conv_right_2 = BN_LeakyReLU(conv_right_2)\n",
        "  \n",
        "  # stream_sum_1\n",
        "  sum_1 = add([conv_middle_1, conv_right_2])\n",
        "  \n",
        "  # stream_middle_down\n",
        "  conv_middle_2 = Conv2D(n_filters, (3, 3), padding='same', dilation_rate = 3, kernel_initializer='he_normal',\n",
        "                          kernel_regularizer=regularizers.l2(0.0001))(sum_1)\n",
        "  conv_middle_2 = BN_LeakyReLU(conv_middle_2)\n",
        "  # stream_right_down\n",
        "  conv_right_3 = Conv2D(n_filters, (3, 3), padding='same', dilation_rate = 2, kernel_initializer='he_normal',\n",
        "                        kernel_regularizer=regularizers.l2(0.0001))(sum_1)\n",
        "  conv_right_3 = BN_LeakyReLU(conv_right_3)\n",
        "  conv_right_4 = Conv2D(n_filters, (3, 3), padding='same', dilation_rate = 2, kernel_initializer='he_normal',\n",
        "                        kernel_regularizer=regularizers.l2(0.0001))(conv_right_3)\n",
        "  conv_right_4 = BN_LeakyReLU(conv_right_4)\n",
        "  \n",
        "  # stream_sum_2\n",
        "  sum_2 = add([conv_left, conv_middle_2, conv_right_4])\n",
        "  \n",
        "  return sum_2\n",
        "def transpose(input):\n",
        "  x=tf.transpose(input, perm=[0, 2, 1])\n",
        "  return x\n",
        "\n",
        "def expand_dims1(input):\n",
        "  x=tf.expand_dims(input, axis=1)\n",
        "  return x\n",
        "\n",
        "def expand_dims2(input):\n",
        "  x=tf.expand_dims(input, axis=-1)\n",
        "  return x\n",
        "\n",
        "def matmul(input):\n",
        "  \"\"\"input must be a  list\"\"\"\n",
        "  return tf.matmul(input[0],input[1])\n",
        "\n",
        "def gcnet_layer(inputs):\n",
        "    \n",
        "  x=inputs\n",
        "  bs, h, w, c = x.get_shape().as_list()\n",
        "  input_x = x\n",
        "  input_x = Reshape((-1, c))(input_x)  # [N, H*W, C]\n",
        "  input_x = Lambda(transpose)(input_x)  # [N,C,H*W]\n",
        "  input_x = Lambda(expand_dims1)(input_x)\n",
        "\n",
        "  context_mask = Conv2D(filters=1, kernel_size=(1, 1))(x)\n",
        "  context_mask = Reshape((-1, 1))(context_mask)\n",
        "  context_mask = softmax(context_mask, axis=1)  # [N, H*W, 1]\n",
        "  context_mask = Lambda(transpose)(context_mask)\n",
        "  context_mask = Lambda(expand_dims2)(context_mask)\n",
        "\n",
        "  context = Lambda(matmul)([input_x,context_mask])  # [N,1,c,1]\n",
        "  context = Reshape((1, 1, c))(context)\n",
        "\n",
        "  context_transform = Conv2D(int(c/8), (1, 1))(context)\n",
        "  context_transform = LayerNormalization()(context_transform)\n",
        "  context_transform = relu(context_transform)\n",
        "  context_transform = Conv2D(c, (1, 1))(context_transform)\n",
        "\n",
        "  x= add([x,context_transform])\n",
        "\n",
        "  return x\n"
      ],
      "execution_count": null,
      "outputs": []
    },
    {
      "cell_type": "code",
      "metadata": {
        "id": "DylR-saGPsD_"
      },
      "source": [
        "def DNCNN(input_layer):\n",
        "  n_filters = 64\n",
        "  \n",
        "  # input_layer = L.Input(shape=inputShape)\n",
        "  conv_1 = Conv2D(n_filters, (7, 7), padding='valid', strides=(2, 2), kernel_initializer='he_normal',\n",
        "                  kernel_regularizer=regularizers.l2(0.0001))(input_layer)\n",
        "  conv_1 = BN_LeakyReLU(conv_1)\n",
        "  # print('conv_1: {}'.format(conv_1.shape))\n",
        "  conv_2 = Conv2D(2*n_filters, (3, 3), padding='valid', strides=(2, 2), kernel_initializer='he_normal',\n",
        "                  kernel_regularizer=regularizers.l2(0.0001))(conv_1)\n",
        "  conv_2 = BN_LeakyReLU(conv_2)\n",
        "  # print('conv_2: {}'.format(conv_2.shape))\n",
        "  \n",
        "  block_1 = MDCN(conv_2, 2*n_filters)  # 128\n",
        "  # print('block_1: {}'.format(block_1.shape))\n",
        "  block_2 = MDCN(block_1, 2*n_filters)  # 128\n",
        "  # print('block_2: {}'.format(block_2.shape))\n",
        "  \n",
        "  conv_3 = Conv2D(4*n_filters, (3, 3), padding='valid', strides=(2, 2), kernel_initializer='he_normal',\n",
        "                  kernel_regularizer=regularizers.l2(0.0001))(block_2)\n",
        "  conv_3 = BN_LeakyReLU(conv_3)\n",
        "  # print('conv_3: {}'.format(conv_3.shape))\n",
        "  \n",
        "  block_3 = MDCN(conv_3, 4*n_filters)  # 256\n",
        "  # print('block_3: {}'.format(block_3.shape))\n",
        "  block_4 = MDCN(block_3, 4*n_filters)  # 256\n",
        "  # print('block_4: {}'.format(block_4.shape))\n",
        "  \n",
        "  conv_4 = Conv2D(8*n_filters, (3, 3), padding='valid', strides=(2, 2), kernel_initializer='he_normal',\n",
        "                  kernel_regularizer=regularizers.l2(0.0001))(block_4)  # 512\n",
        "  conv_4 = BN_LeakyReLU(conv_4)\n",
        "  # print('conv_4: {}'.format(conv_4.shape))\n",
        "  \n",
        "  block_5 = MDCN(conv_4, 8*n_filters)  # 256\n",
        "  # print('block_5: {}'.format(block_5.shape))\n",
        "  block_6 = MDCN(block_5, 8*n_filters)  # 256\n",
        "  # print('block_6: {}'.format(block_6.shape))\n",
        "  \n",
        "  \n",
        "  block_6 = gcnet_layer(block_6)\n",
        "  \n",
        "  gap = GlobalAveragePooling2D()(block_6)  # GAP\n",
        "  fc = Dropout(0.5)(gap) \n",
        "  UV_result = Dense(512, activation='relu')(fc)  # FC\n",
        "         #Dropout\n",
        "\n",
        "  \n",
        "  # model_DNCNN = Model(inputs=input_layer, outputs=UV_result)\n",
        " \n",
        "  \n",
        "  return UV_result"
      ],
      "execution_count": null,
      "outputs": []
    },
    {
      "cell_type": "code",
      "metadata": {
        "id": "XPUhRqSu9jte"
      },
      "source": [
        "def OnlyDNCNN(input_layer):\n",
        "  n_filters = 64\n",
        "  \n",
        "  # input_layer = L.Input(shape=inputShape)\n",
        "  conv_1 = Conv2D(n_filters, (7, 7), padding='valid', strides=(2, 2), kernel_initializer='he_normal',\n",
        "                  kernel_regularizer=regularizers.l2(0.0001))(input_layer)\n",
        "  conv_1 = BN_LeakyReLU(conv_1)\n",
        "  # print('conv_1: {}'.format(conv_1.shape))\n",
        "  conv_2 = Conv2D(2*n_filters, (3, 3), padding='valid', strides=(2, 2), kernel_initializer='he_normal',\n",
        "                  kernel_regularizer=regularizers.l2(0.0001))(conv_1)\n",
        "  conv_2 = BN_LeakyReLU(conv_2)\n",
        "  # print('conv_2: {}'.format(conv_2.shape))\n",
        "  \n",
        "  block_1 = MDCN(conv_2, 2*n_filters)  # 128\n",
        "  # print('block_1: {}'.format(block_1.shape))\n",
        "  block_2 = MDCN(block_1, 2*n_filters)  # 128\n",
        "  # print('block_2: {}'.format(block_2.shape))\n",
        "  \n",
        "  conv_3 = Conv2D(4*n_filters, (3, 3), padding='valid', strides=(2, 2), kernel_initializer='he_normal',\n",
        "                  kernel_regularizer=regularizers.l2(0.0001))(block_2)\n",
        "  conv_3 = BN_LeakyReLU(conv_3)\n",
        "  # print('conv_3: {}'.format(conv_3.shape))\n",
        "  \n",
        "  block_3 = MDCN(conv_3, 4*n_filters)  # 256\n",
        "  # print('block_3: {}'.format(block_3.shape))\n",
        "  block_4 = MDCN(block_3, 4*n_filters)  # 256\n",
        "  # print('block_4: {}'.format(block_4.shape))\n",
        "  \n",
        "  conv_4 = Conv2D(8*n_filters, (3, 3), padding='valid', strides=(2, 2), kernel_initializer='he_normal',\n",
        "                  kernel_regularizer=regularizers.l2(0.0001))(block_4)  # 512\n",
        "  conv_4 = BN_LeakyReLU(conv_4)\n",
        "  # print('conv_4: {}'.format(conv_4.shape))\n",
        "  \n",
        "  block_5 = MDCN(conv_4, 8*n_filters)  # 256\n",
        "  # print('block_5: {}'.format(block_5.shape))\n",
        "  block_6 = MDCN(block_5, 8*n_filters)  # 256\n",
        "  # print('block_6: {}'.format(block_6.shape))\n",
        "  \n",
        "  \n",
        "  block_6 = gcnet_layer(block_6)\n",
        "  \n",
        "  gap = GlobalAveragePooling2D()(block_6)  # GAP\n",
        "  fc = Dropout(0.5)(gap) \n",
        "  UV_result = Dense(512, activation='relu')(fc)  # FC\n",
        "         #Dropout\n",
        "  output = Dense(2, activation='softmax')(UV_result)\n",
        "  model_DNCNN = Model(inputs=input_layer, outputs=output)\n",
        " \n",
        "  \n",
        "  return model_DNCNN"
      ],
      "execution_count": null,
      "outputs": []
    },
    {
      "cell_type": "markdown",
      "metadata": {
        "id": "OjfELTicm0Fz"
      },
      "source": [
        "#MVRAN部分"
      ]
    },
    {
      "cell_type": "code",
      "metadata": {
        "id": "H-R6axvGm45s"
      },
      "source": [
        "def attention_3d_block(inputs):\n",
        "  # inputs.shape = (batch_size, time_steps, input_dim)\n",
        "  input_dim = int(inputs.shape[2])\n",
        "  a = L.Permute((2, 1))(inputs)\n",
        "  a = L.Reshape((input_dim, TIME_STEPS))(a) # this line is not useful. It's just to know which dimension is what.\n",
        "  a = L.Dense(TIME_STEPS, activation='softmax')(a)\n",
        "  if SINGLE_ATTENTION_VECTOR:\n",
        "      a = Lambda(lambda x: K.mean(x, axis=1), name='dim_reduction')(a)\n",
        "      a = RepeatVector(input_dim)(a)\n",
        "  a_probs = L.Permute((2, 1), name='attention_vec')(a)\n",
        "  # print(inputs.shape,a_probs.shape)\n",
        "  output_attention_mul = L.Multiply()([inputs, a_probs])\n",
        "  return output_attention_mul"
      ],
      "execution_count": null,
      "outputs": []
    },
    {
      "cell_type": "code",
      "metadata": {
        "id": "15vwhY8Um9Bf"
      },
      "source": [
        "def MVRAN(input0,input90,input180,input270):\n",
        "  \n",
        "  # input = L.Input(shape=(4,224,224,3))\n",
        "  embedding_model = efn.EfficientNetB0()\n",
        "  embedding0 = embedding_model(input0)\n",
        "  embedding90 = embedding_model(input90)\n",
        "  embedding180 = embedding_model(input180)\n",
        "  embedding270 = embedding_model(input270)\n",
        "  # print(input[0,].shape)\n",
        "  # print(embedding0.shape)\n",
        "  # embedding0 = Model(input0, embedding_model(input0))\n",
        "  # embedding90 = Model(input90, embedding_model(input90))\n",
        "  # embedding180 = Model(input180, embedding_model(input180))\n",
        "  # embedding270 = Model(input270, embedding_model(input270))\n",
        "\n",
        "  # CNN_embedding = L.concatenate([embedding0,embedding90,embedding180,embedding270])\n",
        "  CNN_embedding = tf.stack([embedding0,embedding90,embedding180,embedding270], 1) \n",
        "  # print(CNN_embedding.shape)\n",
        "  # CNN_embedding = tf.expand_dims(CNN_embedding, 0)\n",
        "  LSTM_output = L.Bidirectional(L.LSTM(units=64,return_sequences=True),input_shape=inputShapeLSTM)(CNN_embedding)\n",
        "  attention_mul = attention_3d_block(LSTM_output)\n",
        "  # print(attention_mul.shape)\n",
        "  LSTM_vector = L.Flatten(input_shape = (4,128))(attention_mul)\n",
        "  # output = L.Dense(2, activation='softmax')(LSTM_vector)\n",
        "  # output = tf.squeeze(output,axis=0)\n",
        "  # siameseCNN = Model(inputs=input,outputs = LSTM_vector)\n",
        "  return LSTM_vector"
      ],
      "execution_count": null,
      "outputs": []
    },
    {
      "cell_type": "markdown",
      "metadata": {
        "id": "veUkLQY-pN-F"
      },
      "source": [
        "#特征嵌套"
      ]
    },
    {
      "cell_type": "code",
      "metadata": {
        "id": "VYLjBttCpSG7"
      },
      "source": [
        "def fusionModel(embedding_model):\n",
        "  inputUV = L.Input(shape=inputShape)\n",
        "  input0 = L.Input(shape=inputShape)\n",
        "  input90 = L.Input(shape=inputShape)\n",
        "  input180 = L.Input(shape=inputShape)\n",
        "  input270 = L.Input(shape=inputShape)\n",
        "  left = DNCNN(inputUV)\n",
        "  right = MVRAN(input0,input90,input180,input270)\n",
        "  # print(left.shape,right.shape)\n",
        "  concat_1 = tf.stack([left,right], 1)\n",
        "  # concat_1 = np.concatenate((left,right))\n",
        "  concat_1 = L.Permute((2,1))(concat_1)\n",
        "  concat_1 = tf.expand_dims(concat_1,axis=1)\n",
        "  conv_1 = Conv2D(1, (1, 1), padding='same',kernel_initializer='he_normal',kernel_regularizer=regularizers.l2(0.0001))(concat_1)\n",
        "  # conv_1 = tf.squeeze(conv_1,axis=[1,3])\n",
        "  # print(conv_1.shape)\n",
        "  # leftWeight = Dense(512,kernel_regularizer=regularizers.l2(0.01),name='leftWeight')(conv_1)\n",
        "  # rightWeight = Dense(512,kernel_regularizer=regularizers.l2(0.01),name='rightWeight')(conv_1)\n",
        "  leftWeight = Conv2D(1, (1, 1), padding='same',kernel_initializer='he_normal',kernel_regularizer=regularizers.l2(0.0001))(conv_1)\n",
        "  rightWeight = Conv2D(1, (1, 1), padding='same',kernel_initializer='he_normal',kernel_regularizer=regularizers.l2(0.0001))(conv_1)\n",
        "  leftWeight = tf.squeeze(leftWeight,axis=[1,3])\n",
        "  rightWeight = tf.squeeze(rightWeight,axis=[1,3])\n",
        "  concatLeft = L.Multiply()([left, leftWeight])\n",
        "  concatRight = L.Multiply()([right, rightWeight])\n",
        "  concat_2 = tf.stack([concatLeft,concatRight], 1)\n",
        "  concat_2 = L.Permute((2,1))(concat_2)\n",
        "  concat_2 = tf.expand_dims(concat_2,axis=1)\n",
        "  conv_2 = Conv2D(1, (1, 1), padding='same',kernel_initializer='he_normal',kernel_regularizer=regularizers.l2(0.0001))(concat_2)\n",
        "  conv_2 = tf.squeeze(conv_2,axis=[1,3])\n",
        "  output = L.Dense(2, activation='softmax')(conv_2)\n",
        "  # print(leftWeight.shape,rightWeight.shape)\n",
        "  # output = conv_2\n",
        "  \n",
        "  Fmodel = Model(inputs=[inputUV,input0,input90,input180,input270],outputs = output)\n",
        "  return Fmodel"
      ],
      "execution_count": null,
      "outputs": []
    },
    {
      "cell_type": "markdown",
      "metadata": {
        "id": "LEG0zGkgvHDZ"
      },
      "source": [
        "#模型训练"
      ]
    },
    {
      "cell_type": "markdown",
      "metadata": {
        "id": "wdUJZw7y97hh"
      },
      "source": [
        "##Fuison"
      ]
    },
    {
      "cell_type": "code",
      "metadata": {
        "id": "eiwoaKsUeGQl"
      },
      "source": [
        "def trainFusion(CNNmodel,X,Y,valX,valY):\n",
        "  mmodel = fusionModel(CNNmodel)\n",
        "  # optm = K.optimizers.Adam(lr = 1e-4,decay=0.01)\n",
        "  optm = K.optimizers.Adam(lr = 1e-4)\n",
        "  mmodel.compile(optimizer = optm, loss = 'categorical_crossentropy', metrics=['acc'])\n",
        "  model_checkpoint = ModelCheckpoint('/content/gdrive/MyDrive/UV3/result/fusionModel_test.h5', monitor='val_loss', verbose=0, \n",
        "                                       save_best_only=True, save_weights_only=True,period=1)\n",
        "\n",
        "  early_stopping =EarlyStopping(monitor='val_loss', patience=50)\n",
        "  input_y = to_categorical(Y)\n",
        "  # print(input_y.shape)\n",
        "  input_x = [\n",
        "    X[:,0,:,:,:],\n",
        "    X[:,1,:,:,:],\n",
        "    X[:,2,:,:,:],\n",
        "    X[:,3,:,:,:],\n",
        "    X[:,4,:,:,:]        \n",
        "  ]\n",
        "  input_val_y = to_categorical(valY)\n",
        "  input_val_x = [\n",
        "    valX[:,0,:,:,:],\n",
        "    valX[:,1,:,:,:],\n",
        "    valX[:,2,:,:,:],\n",
        "    valX[:,3,:,:,:],\n",
        "    valX[:,4,:,:,:]        \n",
        "  ]\n",
        "  # history=mmodel.fit(x=input_x,y=input_y,batch_size=25,epochs=200,shuffle=True,validation_data=(input_val_x, input_val_y),\n",
        "  #             callbacks=[model_checkpoint])\n",
        "  history=mmodel.fit(x=input_x,y=input_y,batch_size=30,epochs=100,shuffle=True,validation_data=(input_val_x, input_val_y),\n",
        "              callbacks=[model_checkpoint])\n",
        "  return history"
      ],
      "execution_count": null,
      "outputs": []
    },
    {
      "cell_type": "code",
      "metadata": {
        "id": "hFIk9zNgewGH"
      },
      "source": [
        "train_X = np.load('/content/gdrive/MyDrive/UV3/dataset/train_x_Beijing.npy')\n",
        "train_Y = np.load('/content/gdrive/MyDrive/UV3/dataset/train_y_Beijing.npy')\n",
        "val_X = np.load('/content/gdrive/MyDrive/UV3/dataset/test_x_Beijing.npy')\n",
        "val_Y = np.load('/content/gdrive/MyDrive/UV3/dataset/test_y_Beijing.npy')\n",
        "test_X = np.load('/content/gdrive/MyDrive/UV3/dataset/test_x_Beijing.npy')\n",
        "test_Y = np.load('/content/gdrive/MyDrive/UV3/dataset/test_y_Beijing.npy')"
      ],
      "execution_count": null,
      "outputs": []
    },
    {
      "cell_type": "code",
      "metadata": {
        "id": "eFr2RfqHe_Kc"
      },
      "source": [
        "CNN_model = efn.EfficientNetB0()"
      ],
      "execution_count": null,
      "outputs": []
    },
    {
      "cell_type": "code",
      "metadata": {
        "id": "ul8mrd8afBRJ"
      },
      "source": [
        "history = trainFusion(CNN_model,train_X,train_Y,val_X,val_Y)"
      ],
      "execution_count": null,
      "outputs": []
    },
    {
      "cell_type": "markdown",
      "metadata": {
        "id": "bhwVCzEs9-Fw"
      },
      "source": [
        "##OnlyDNCNN"
      ]
    },
    {
      "cell_type": "code",
      "metadata": {
        "id": "UfRH9rGe9_14"
      },
      "source": [
        "def trainDNCNN(X,Y,valX,valY):\n",
        "  inputUV = L.Input(shape=inputShape)\n",
        "  mmodel = OnlyDNCNN(inputUV)\n",
        "  # optm = K.optimizers.Adam(lr = 1e-3,decay=0.01)\n",
        "  optm = K.optimizers.Adam(lr = 1e-4)\n",
        "  mmodel.compile(optimizer = optm, loss = 'categorical_crossentropy', metrics=['acc'])\n",
        "  model_checkpoint = ModelCheckpoint('/content/gdrive/MyDrive/UV3/result/DNCNN_test.h5', monitor='val_loss', verbose=0, \n",
        "                                       save_best_only=True, save_weights_only=True,period=5)\n",
        "  early_stopping =EarlyStopping(monitor='val_loss', patience=50)\n",
        "  input_y = to_categorical(Y)\n",
        "  # print(input_y.shape)\n",
        "  input_x = X[:,0,:,:,:]\n",
        "  input_val_y = to_categorical(valY)\n",
        "  input_val_x = valX[:,0,:,:,:]\n",
        "  \n",
        "  print(input_x.shape,input_y.shape,input_val_x.shape,input_val_y.shape)\n",
        "  # history=mmodel.fit(x=input_x,y=input_y,batch_size=25,epochs=200,shuffle=True,validation_data=(input_val_x, input_val_y),\n",
        "  #             callbacks=[model_checkpoint])\n",
        "  history=mmodel.fit(x=input_x,y=input_y,batch_size=25,epochs=100,shuffle=True,validation_data=(input_val_x, input_val_y),\n",
        "              callbacks=[model_checkpoint])\n",
        "  return history"
      ],
      "execution_count": null,
      "outputs": []
    },
    {
      "cell_type": "code",
      "metadata": {
        "id": "Mqp86GPR-IME",
        "colab": {
          "base_uri": "https://localhost:8080/"
        },
        "outputId": "a9c7a45b-358d-4eba-c76a-ee72f4380c8e"
      },
      "source": [
        "history = trainDNCNN(train_X,train_Y,val_X,val_Y)"
      ],
      "execution_count": null,
      "outputs": [
        {
          "output_type": "stream",
          "text": [
            "WARNING:tensorflow:`period` argument is deprecated. Please use `save_freq` to specify the frequency in number of batches seen.\n",
            "(637, 224, 224, 3) (637, 2) (342, 224, 224, 3) (342, 2)\n",
            "Epoch 1/100\n",
            "26/26 [==============================] - 153s 6s/step - loss: 3.3692 - acc: 0.7002 - val_loss: 993.0662 - val_acc: 0.6257\n",
            "Epoch 2/100\n",
            "26/26 [==============================] - 158s 6s/step - loss: 3.2341 - acc: 0.8022 - val_loss: 1734.2765 - val_acc: 0.6257\n",
            "Epoch 3/100\n",
            "26/26 [==============================] - 152s 6s/step - loss: 3.0859 - acc: 0.8414 - val_loss: 561.6412 - val_acc: 0.6257\n",
            "Epoch 4/100\n",
            "26/26 [==============================] - 145s 6s/step - loss: 3.0423 - acc: 0.8556 - val_loss: 3.8621 - val_acc: 0.6813\n",
            "Epoch 5/100\n",
            "26/26 [==============================] - 152s 6s/step - loss: 2.9786 - acc: 0.8854 - val_loss: 3.6323 - val_acc: 0.7310\n",
            "Epoch 6/100\n",
            "26/26 [==============================] - 166s 6s/step - loss: 2.9260 - acc: 0.9137 - val_loss: 5.7083 - val_acc: 0.6345\n",
            "Epoch 7/100\n",
            "26/26 [==============================] - 146s 6s/step - loss: 2.8460 - acc: 0.9451 - val_loss: 3.5914 - val_acc: 0.7427\n",
            "Epoch 8/100\n",
            "26/26 [==============================] - 146s 6s/step - loss: 2.8316 - acc: 0.9419 - val_loss: 2.9019 - val_acc: 0.9064\n",
            "Epoch 9/100\n",
            "26/26 [==============================] - 159s 6s/step - loss: 2.7656 - acc: 0.9655 - val_loss: 3.5005 - val_acc: 0.6871\n",
            "Epoch 10/100\n",
            "26/26 [==============================] - 166s 6s/step - loss: 2.7188 - acc: 0.9827 - val_loss: 3.1638 - val_acc: 0.8421\n",
            "Epoch 11/100\n",
            "26/26 [==============================] - 151s 6s/step - loss: 2.6974 - acc: 0.9843 - val_loss: 3.2601 - val_acc: 0.8421\n",
            "Epoch 12/100\n",
            "26/26 [==============================] - 149s 6s/step - loss: 2.7149 - acc: 0.9812 - val_loss: 3.1021 - val_acc: 0.8743\n",
            "Epoch 13/100\n",
            "26/26 [==============================] - 154s 6s/step - loss: 2.6997 - acc: 0.9827 - val_loss: 3.0771 - val_acc: 0.8918\n",
            "Epoch 14/100\n",
            "26/26 [==============================] - 151s 6s/step - loss: 2.7144 - acc: 0.9843 - val_loss: 3.0787 - val_acc: 0.8772\n",
            "Epoch 15/100\n",
            "26/26 [==============================] - 145s 6s/step - loss: 2.7317 - acc: 0.9655 - val_loss: 3.0469 - val_acc: 0.8684\n",
            "Epoch 16/100\n",
            "26/26 [==============================] - 148s 6s/step - loss: 2.8517 - acc: 0.9356 - val_loss: 3.0535 - val_acc: 0.8363\n",
            "Epoch 17/100\n",
            "26/26 [==============================] - 155s 6s/step - loss: 2.6810 - acc: 0.9859 - val_loss: 3.2748 - val_acc: 0.8743\n",
            "Epoch 18/100\n",
            "26/26 [==============================] - 158s 6s/step - loss: 2.6351 - acc: 1.0000 - val_loss: 3.0895 - val_acc: 0.9094\n",
            "Epoch 19/100\n",
            "26/26 [==============================] - 147s 6s/step - loss: 2.6872 - acc: 0.9796 - val_loss: 5.1533 - val_acc: 0.7281\n",
            "Epoch 20/100\n",
            "26/26 [==============================] - 152s 6s/step - loss: 2.7118 - acc: 0.9717 - val_loss: 3.1062 - val_acc: 0.8596\n",
            "Epoch 21/100\n",
            "26/26 [==============================] - 158s 6s/step - loss: 2.6607 - acc: 0.9827 - val_loss: 3.0389 - val_acc: 0.8947\n",
            "Epoch 22/100\n",
            "26/26 [==============================] - 146s 6s/step - loss: 2.6240 - acc: 0.9953 - val_loss: 3.5155 - val_acc: 0.7895\n",
            "Epoch 23/100\n",
            "26/26 [==============================] - 151s 6s/step - loss: 2.6141 - acc: 0.9969 - val_loss: 3.2844 - val_acc: 0.8012\n",
            "Epoch 24/100\n",
            "26/26 [==============================] - 155s 6s/step - loss: 2.6052 - acc: 0.9984 - val_loss: 3.0322 - val_acc: 0.8567\n",
            "Epoch 25/100\n",
            "26/26 [==============================] - 161s 6s/step - loss: 2.5906 - acc: 1.0000 - val_loss: 3.0313 - val_acc: 0.8567\n",
            "Epoch 26/100\n",
            "26/26 [==============================] - 147s 6s/step - loss: 2.5839 - acc: 1.0000 - val_loss: 3.0695 - val_acc: 0.8713\n",
            "Epoch 27/100\n",
            "26/26 [==============================] - 149s 6s/step - loss: 2.6052 - acc: 0.9906 - val_loss: 3.2905 - val_acc: 0.8596\n",
            "Epoch 28/100\n",
            "26/26 [==============================] - 157s 6s/step - loss: 2.5996 - acc: 0.9922 - val_loss: 3.8548 - val_acc: 0.7544\n",
            "Epoch 29/100\n",
            "26/26 [==============================] - 166s 6s/step - loss: 2.5878 - acc: 0.9906 - val_loss: 3.0617 - val_acc: 0.8626\n",
            "Epoch 30/100\n",
            "26/26 [==============================] - 146s 6s/step - loss: 2.5782 - acc: 0.9937 - val_loss: 3.2164 - val_acc: 0.8626\n",
            "Epoch 31/100\n",
            "26/26 [==============================] - 150s 6s/step - loss: 2.5782 - acc: 0.9859 - val_loss: 9.1050 - val_acc: 0.6199\n",
            "Epoch 32/100\n",
            "26/26 [==============================] - 158s 6s/step - loss: 2.5686 - acc: 0.9906 - val_loss: 3.5873 - val_acc: 0.8304\n",
            "Epoch 33/100\n",
            "26/26 [==============================] - 157s 6s/step - loss: 2.5456 - acc: 0.9984 - val_loss: 3.6130 - val_acc: 0.8158\n",
            "Epoch 34/100\n",
            "26/26 [==============================] - 148s 6s/step - loss: 2.5398 - acc: 0.9953 - val_loss: 3.4901 - val_acc: 0.8246\n",
            "Epoch 35/100\n",
            "26/26 [==============================] - 153s 6s/step - loss: 2.5998 - acc: 0.9765 - val_loss: 3.4015 - val_acc: 0.8684\n",
            "Epoch 36/100\n",
            "26/26 [==============================] - 153s 6s/step - loss: 2.5748 - acc: 0.9812 - val_loss: 3.3988 - val_acc: 0.8596\n",
            "Epoch 37/100\n",
            "26/26 [==============================] - 146s 6s/step - loss: 2.5306 - acc: 0.9937 - val_loss: 3.6984 - val_acc: 0.8596\n",
            "Epoch 38/100\n",
            "26/26 [==============================] - 146s 6s/step - loss: 2.5100 - acc: 0.9984 - val_loss: 3.2280 - val_acc: 0.8684\n",
            "Epoch 39/100\n",
            "26/26 [==============================] - 155s 6s/step - loss: 2.5004 - acc: 1.0000 - val_loss: 3.1031 - val_acc: 0.8889\n",
            "Epoch 40/100\n",
            "26/26 [==============================] - 161s 6s/step - loss: 2.4923 - acc: 1.0000 - val_loss: 3.0240 - val_acc: 0.8830\n",
            "Epoch 41/100\n",
            "26/26 [==============================] - 149s 6s/step - loss: 2.4846 - acc: 1.0000 - val_loss: 3.0155 - val_acc: 0.8889\n",
            "Epoch 42/100\n",
            "26/26 [==============================] - 152s 6s/step - loss: 2.4767 - acc: 1.0000 - val_loss: 3.0225 - val_acc: 0.8889\n",
            "Epoch 43/100\n",
            "26/26 [==============================] - 152s 6s/step - loss: 2.4689 - acc: 1.0000 - val_loss: 3.0519 - val_acc: 0.8918\n",
            "Epoch 44/100\n",
            "26/26 [==============================] - 156s 6s/step - loss: 2.4611 - acc: 1.0000 - val_loss: 3.0579 - val_acc: 0.8947\n",
            "Epoch 45/100\n",
            "26/26 [==============================] - 143s 5s/step - loss: 2.4527 - acc: 1.0000 - val_loss: 3.0530 - val_acc: 0.8947\n",
            "Epoch 46/100\n",
            "26/26 [==============================] - 155s 6s/step - loss: 2.4445 - acc: 1.0000 - val_loss: 3.0354 - val_acc: 0.8977\n",
            "Epoch 47/100\n",
            "26/26 [==============================] - 158s 6s/step - loss: 2.4369 - acc: 1.0000 - val_loss: 3.0257 - val_acc: 0.8947\n",
            "Epoch 48/100\n",
            "26/26 [==============================] - 157s 6s/step - loss: 2.4281 - acc: 1.0000 - val_loss: 3.0745 - val_acc: 0.8772\n",
            "Epoch 49/100\n",
            "26/26 [==============================] - 147s 6s/step - loss: 2.4193 - acc: 1.0000 - val_loss: 3.0803 - val_acc: 0.8772\n",
            "Epoch 50/100\n",
            "26/26 [==============================] - 149s 6s/step - loss: 2.4107 - acc: 1.0000 - val_loss: 3.0672 - val_acc: 0.8772\n",
            "Epoch 51/100\n",
            "26/26 [==============================] - 158s 6s/step - loss: 2.4023 - acc: 1.0000 - val_loss: 3.0652 - val_acc: 0.8801\n",
            "Epoch 52/100\n",
            "26/26 [==============================] - 158s 6s/step - loss: 2.3932 - acc: 1.0000 - val_loss: 3.0862 - val_acc: 0.8801\n",
            "Epoch 53/100\n",
            "26/26 [==============================] - 149s 6s/step - loss: 2.3843 - acc: 1.0000 - val_loss: 3.0792 - val_acc: 0.8743\n",
            "Epoch 54/100\n",
            "26/26 [==============================] - 155s 6s/step - loss: 2.3752 - acc: 1.0000 - val_loss: 3.0724 - val_acc: 0.8801\n",
            "Epoch 55/100\n",
            "26/26 [==============================] - 162s 6s/step - loss: 2.3722 - acc: 0.9984 - val_loss: 3.3541 - val_acc: 0.8099\n",
            "Epoch 56/100\n",
            "26/26 [==============================] - 154s 6s/step - loss: 2.4610 - acc: 0.9670 - val_loss: 3.9755 - val_acc: 0.7135\n",
            "Epoch 57/100\n",
            "26/26 [==============================] - 150s 6s/step - loss: 2.4544 - acc: 0.9702 - val_loss: 3.1583 - val_acc: 0.9006\n",
            "Epoch 58/100\n",
            "26/26 [==============================] - 152s 6s/step - loss: 2.3773 - acc: 0.9906 - val_loss: 4.9205 - val_acc: 0.7427\n",
            "Epoch 59/100\n",
            "26/26 [==============================] - 155s 6s/step - loss: 2.3699 - acc: 0.9890 - val_loss: 2.7174 - val_acc: 0.8947\n",
            "Epoch 60/100\n",
            "26/26 [==============================] - 146s 6s/step - loss: 2.3344 - acc: 0.9984 - val_loss: 2.9578 - val_acc: 0.8421\n",
            "Epoch 61/100\n",
            "26/26 [==============================] - 150s 6s/step - loss: 2.3242 - acc: 0.9984 - val_loss: 2.9820 - val_acc: 0.8538\n",
            "Epoch 62/100\n",
            "26/26 [==============================] - 153s 6s/step - loss: 2.3343 - acc: 0.9937 - val_loss: 3.4687 - val_acc: 0.7544\n",
            "Epoch 63/100\n",
            "26/26 [==============================] - 158s 6s/step - loss: 2.3446 - acc: 0.9874 - val_loss: 2.9656 - val_acc: 0.8333\n",
            "Epoch 64/100\n",
            "26/26 [==============================] - 150s 6s/step - loss: 2.2959 - acc: 1.0000 - val_loss: 3.0244 - val_acc: 0.8158\n",
            "Epoch 65/100\n",
            "26/26 [==============================] - 154s 6s/step - loss: 2.2886 - acc: 0.9969 - val_loss: 2.9457 - val_acc: 0.8363\n",
            "Epoch 66/100\n",
            "26/26 [==============================] - 153s 6s/step - loss: 2.2730 - acc: 1.0000 - val_loss: 3.0454 - val_acc: 0.8158\n",
            "Epoch 67/100\n",
            "26/26 [==============================] - 152s 6s/step - loss: 2.2634 - acc: 1.0000 - val_loss: 2.9968 - val_acc: 0.8187\n",
            "Epoch 68/100\n",
            "26/26 [==============================] - 143s 5s/step - loss: 2.2539 - acc: 1.0000 - val_loss: 2.9505 - val_acc: 0.8216\n",
            "Epoch 69/100\n",
            "26/26 [==============================] - 154s 6s/step - loss: 2.2442 - acc: 1.0000 - val_loss: 2.9228 - val_acc: 0.8304\n",
            "Epoch 70/100\n",
            "26/26 [==============================] - 161s 6s/step - loss: 2.2345 - acc: 1.0000 - val_loss: 2.9130 - val_acc: 0.8363\n",
            "Epoch 71/100\n",
            "26/26 [==============================] - 153s 6s/step - loss: 2.2250 - acc: 1.0000 - val_loss: 2.8747 - val_acc: 0.8538\n",
            "Epoch 72/100\n",
            "26/26 [==============================] - 148s 6s/step - loss: 2.2147 - acc: 1.0000 - val_loss: 2.8810 - val_acc: 0.8567\n",
            "Epoch 73/100\n",
            "26/26 [==============================] - 153s 6s/step - loss: 2.2092 - acc: 0.9984 - val_loss: 3.0518 - val_acc: 0.8509\n",
            "Epoch 74/100\n",
            "26/26 [==============================] - 156s 6s/step - loss: 2.2534 - acc: 0.9827 - val_loss: 3.7758 - val_acc: 0.7398\n",
            "Epoch 75/100\n",
            "26/26 [==============================] - 148s 6s/step - loss: 2.2083 - acc: 0.9937 - val_loss: 3.3844 - val_acc: 0.8509\n",
            "Epoch 76/100\n",
            "26/26 [==============================] - 150s 6s/step - loss: 2.2279 - acc: 0.9859 - val_loss: 3.3772 - val_acc: 0.7778\n",
            "Epoch 77/100\n",
            "26/26 [==============================] - 153s 6s/step - loss: 2.1778 - acc: 0.9984 - val_loss: 2.8465 - val_acc: 0.8333\n",
            "Epoch 78/100\n",
            "26/26 [==============================] - 165s 6s/step - loss: 2.1582 - acc: 1.0000 - val_loss: 2.8284 - val_acc: 0.8333\n",
            "Epoch 79/100\n",
            "26/26 [==============================] - 147s 6s/step - loss: 2.1472 - acc: 1.0000 - val_loss: 2.8536 - val_acc: 0.8304\n",
            "Epoch 80/100\n",
            "26/26 [==============================] - 151s 6s/step - loss: 2.1397 - acc: 0.9984 - val_loss: 2.8687 - val_acc: 0.8363\n",
            "Epoch 81/100\n",
            "26/26 [==============================] - 158s 6s/step - loss: 2.1268 - acc: 1.0000 - val_loss: 2.7594 - val_acc: 0.8538\n",
            "Epoch 82/100\n",
            "26/26 [==============================] - 154s 6s/step - loss: 2.1202 - acc: 0.9984 - val_loss: 2.6493 - val_acc: 0.8567\n",
            "Epoch 83/100\n",
            "26/26 [==============================] - 142s 5s/step - loss: 2.1845 - acc: 0.9827 - val_loss: 3.0684 - val_acc: 0.7953\n",
            "Epoch 84/100\n",
            "26/26 [==============================] - 151s 6s/step - loss: 2.1673 - acc: 0.9780 - val_loss: 2.9741 - val_acc: 0.7690\n",
            "Epoch 85/100\n",
            "26/26 [==============================] - 158s 6s/step - loss: 2.0961 - acc: 0.9984 - val_loss: 2.8167 - val_acc: 0.8509\n",
            "Epoch 86/100\n",
            "26/26 [==============================] - 155s 6s/step - loss: 2.1037 - acc: 0.9906 - val_loss: 2.9609 - val_acc: 0.7865\n",
            "Epoch 87/100\n",
            "26/26 [==============================] - 150s 6s/step - loss: 2.1283 - acc: 0.9827 - val_loss: 2.6531 - val_acc: 0.8509\n",
            "Epoch 88/100\n",
            "26/26 [==============================] - 156s 6s/step - loss: 2.0700 - acc: 0.9953 - val_loss: 2.6130 - val_acc: 0.8860\n",
            "Epoch 89/100\n",
            "26/26 [==============================] - 153s 6s/step - loss: 2.0527 - acc: 0.9984 - val_loss: 2.5084 - val_acc: 0.8918\n",
            "Epoch 90/100\n",
            "26/26 [==============================] - 150s 6s/step - loss: 2.0412 - acc: 1.0000 - val_loss: 2.7123 - val_acc: 0.8655\n",
            "Epoch 91/100\n",
            "26/26 [==============================] - 144s 6s/step - loss: 2.0285 - acc: 1.0000 - val_loss: 2.8112 - val_acc: 0.8538\n",
            "Epoch 92/100\n",
            "26/26 [==============================] - 155s 6s/step - loss: 2.0219 - acc: 0.9969 - val_loss: 3.0667 - val_acc: 0.7749\n",
            "Epoch 93/100\n",
            "26/26 [==============================] - 157s 6s/step - loss: 2.0210 - acc: 0.9953 - val_loss: 3.2099 - val_acc: 0.7719\n",
            "Epoch 94/100\n",
            "26/26 [==============================] - 147s 6s/step - loss: 2.0229 - acc: 0.9874 - val_loss: 2.8501 - val_acc: 0.7924\n",
            "Epoch 95/100\n",
            "26/26 [==============================] - 147s 6s/step - loss: 2.0040 - acc: 0.9953 - val_loss: 2.8912 - val_acc: 0.8158\n",
            "Epoch 96/100\n",
            "26/26 [==============================] - 153s 6s/step - loss: 1.9811 - acc: 0.9984 - val_loss: 3.2124 - val_acc: 0.7865\n",
            "Epoch 97/100\n",
            "26/26 [==============================] - 159s 6s/step - loss: 1.9730 - acc: 0.9984 - val_loss: 2.5707 - val_acc: 0.8713\n",
            "Epoch 98/100\n",
            "26/26 [==============================] - 142s 5s/step - loss: 1.9781 - acc: 0.9937 - val_loss: 2.9189 - val_acc: 0.7836\n",
            "Epoch 99/100\n",
            "26/26 [==============================] - 151s 6s/step - loss: 1.9488 - acc: 0.9984 - val_loss: 2.3188 - val_acc: 0.9123\n",
            "Epoch 100/100\n",
            "26/26 [==============================] - 155s 6s/step - loss: 1.9406 - acc: 0.9969 - val_loss: 2.9934 - val_acc: 0.7836\n"
          ],
          "name": "stdout"
        }
      ]
    },
    {
      "cell_type": "markdown",
      "metadata": {
        "id": "HsahXweRexYA"
      },
      "source": [
        "##画模型和画图"
      ]
    },
    {
      "cell_type": "code",
      "metadata": {
        "id": "ZrLHz1VGu_63"
      },
      "source": [
        "mmodel = fusionModel(CNN_model)"
      ],
      "execution_count": null,
      "outputs": []
    },
    {
      "cell_type": "code",
      "metadata": {
        "id": "APRP8eLN7bI5"
      },
      "source": [
        "mmodel.summary()"
      ],
      "execution_count": null,
      "outputs": []
    },
    {
      "cell_type": "code",
      "metadata": {
        "id": "ORSALjoYvC16"
      },
      "source": [
        "plot_model(mmodel,'/content/gdrive/MyDrive/UV3/model.png', show_shapes=True)"
      ],
      "execution_count": null,
      "outputs": []
    },
    {
      "cell_type": "code",
      "metadata": {
        "id": "2UMjvRlP08bh"
      },
      "source": [
        "loss = history.history['loss']\n",
        "acc = history.history['acc']\n",
        "valacc = history.history['val_acc']\n",
        "valloss = history.history['val_loss']"
      ],
      "execution_count": null,
      "outputs": []
    },
    {
      "cell_type": "code",
      "metadata": {
        "id": "2uwdB44v3AMx"
      },
      "source": [
        "valloss"
      ],
      "execution_count": null,
      "outputs": []
    },
    {
      "cell_type": "code",
      "metadata": {
        "id": "uISXmTpw2xxt"
      },
      "source": [
        "x = [i for i in range(100)]\n",
        "plt.figure()\n",
        "plt.xlabel('Epoch', fontdict={'size': 16})\n",
        "plt.ylabel('Loss',fontdict={'size': 16})\n",
        "plt.plot(x, loss, color='blue', label='loss')\n",
        "# plt.plot(x, valloss,color='green', label='val_loss')\n",
        "# plt.plot(x, acc, color='blue', label='acc')\n",
        "# plt.plot(x, valacc,color='green', label='valacc')\n",
        "plt.legend(loc='best')\n",
        "plt.savefig('/content/gdrive/MyDrive/UV3/resultImage/Fusion_loss.png',dpi=600)\n",
        "plt.show()"
      ],
      "execution_count": null,
      "outputs": []
    },
    {
      "cell_type": "code",
      "metadata": {
        "colab": {
          "base_uri": "https://localhost:8080/",
          "height": 284
        },
        "id": "-xeIYg753Vm-",
        "outputId": "8289b375-0ca4-483d-99a2-531fc8e23797"
      },
      "source": [
        "x = [i for i in range(100)]\n",
        "plt.figure()\n",
        "plt.xlabel('Epoch', fontdict={'size': 16})\n",
        "plt.ylabel('Acc',fontdict={'size': 16})\n",
        "# plt.plot(x, loss, color='blue', label='loss')\n",
        "# plt.plot(x, valloss,color='green', label='val_loss')\n",
        "plt.plot(x, acc, color='blue', label='acc')\n",
        "plt.plot(x, valacc,color='green', label='valacc')\n",
        "plt.legend(loc='best')\n",
        "plt.savefig('/content/gdrive/MyDrive/UV3/resultImage/Fusion_ACC.png',dpi=600)\n",
        "plt.show()"
      ],
      "execution_count": null,
      "outputs": [
        {
          "output_type": "display_data",
          "data": {
            "image/png": "[encoded data removed]",
            "text/plain": [
              "<Figure size 432x288 with 1 Axes>"
            ]
          },
          "metadata": {
            "tags": []
          }
        }
      ]
    },
    {
      "cell_type": "markdown",
      "metadata": {
        "id": "FlJDa6Lr2psq"
      },
      "source": [
        "#模型测试"
      ]
    },
    {
      "cell_type": "code",
      "metadata": {
        "id": "gLmFiXY62soR"
      },
      "source": [
        "from sklearn.metrics import confusion_matrix\n",
        "from sklearn.metrics import accuracy_score, cohen_kappa_score\n",
        "import matplotlib.pyplot as pl\n",
        "def get_OA(cm):\n",
        "    \n",
        "    total = cm.sum()\n",
        "    \n",
        "    diag_arr = np.diagonal(cm, offset=0)\n",
        "    \n",
        "    correct = diag_arr.sum()\n",
        "    \n",
        "    OA = (correct/total) * 100\n",
        "    \n",
        "    return OA\n",
        "\n",
        "def get_cm_oa_kappa(Y_test, Y_pred,threshold=0.8):\n",
        "    \n",
        "    Y_pred = np.argmax(Y_pred, axis=1)\n",
        "    \n",
        "    Y_test = Y_test.tolist()\n",
        "    Y_pred = Y_pred.tolist()\n",
        "   \n",
        "    cm = confusion_matrix(Y_test,Y_pred)\n",
        "    \n",
        "    oa = get_OA(cm)\n",
        "    \n",
        "    kappa = cohen_kappa_score(Y_test,Y_pred)\n",
        "    \n",
        "    # print(cm)\n",
        "    \n",
        "    return cm, oa, kappa\n",
        "def plot_matrix(y_test, y_pred, labels_name, title=None, thresh=0.8, axis_labels=None):\n",
        "  Y_pred = np.argmax(y_pred, axis=1)\n",
        "  \n",
        "  y_true = y_test.tolist()\n",
        "  Y_pred = Y_pred.tolist()\n",
        "# 利用sklearn中的函数生成混淆矩阵并归一化\n",
        "  cm = confusion_matrix(y_true, Y_pred)  # 生成混淆矩阵 \n",
        "  cm = cm.astype('float') / cm.sum(axis=1)[:, np.newaxis]  # 归一化\n",
        "\n",
        "# 画图，如果希望改变颜色风格，可以改变此部分的cmap=pl.get_cmap('Blues')处\n",
        "  pl.imshow(cm, interpolation='nearest', cmap=pl.get_cmap('Blues'))\n",
        "  pl.colorbar()  # 绘制图例\n",
        "  pl.title(title, fontsize=15,fontfamily='SimHei')\n",
        "# 图像标题\n",
        "  if title is not None:\n",
        "      pl.title(title)\n",
        "# 绘制坐标\n",
        "  num_local = np.array(range(len(labels_name)))\n",
        "  if axis_labels is None:\n",
        "      axis_labels = labels_name\n",
        "  pl.xticks(num_local, axis_labels, rotation=45, fontsize=10)  # 将标签印在x轴坐标上， 并倾斜45度\n",
        "  pl.yticks(num_local, axis_labels, fontsize=10)  # 将标签印在y轴坐标上\n",
        "  pl.ylabel('True label',fontsize=12,verticalalignment='center')\n",
        "  pl.xlabel('Predicted label',fontsize=12,verticalalignment='center')\n",
        "  \n",
        "\n",
        "# 将百分比打印在相应的格子内，大于thresh的用白字，小于的用黑字\n",
        "  for i in range(np.shape(cm)[0]):\n",
        "      for j in range(np.shape(cm)[1]):\n",
        "          if int(cm[i][j] * 100 + 0.5) > 0:\n",
        "              pl.text(j, i, format(int(cm[i][j] * 100), 'd') + '%',\n",
        "                      ha=\"center\", va=\"center\",\n",
        "                      color=\"white\" if cm[i][j] > thresh else \"black\")  # 如果要更改颜色风格，需要同时更改此行\n",
        "# 显示\n",
        "  # pl.figure(dpi=1000) \n",
        "  pl.savefig('/content/gdrive/MyDrive/UV3/resultImage/Fusioncm.png',dpi=1000,bbox_inches = 'tight')\n",
        " \n",
        "  pl.show()"
      ],
      "execution_count": null,
      "outputs": []
    },
    {
      "cell_type": "code",
      "metadata": {
        "id": "s595PxYn3hv0"
      },
      "source": [
        "test_y = to_categorical(test_Y)\n",
        "test_x = [\n",
        "    test_X[:,0,:,:,:],\n",
        "    test_X[:,1,:,:,:],\n",
        "    test_X[:,2,:,:,:],\n",
        "    test_X[:,3,:,:,:],\n",
        "    test_X[:,4,:,:,:]        \n",
        "  ]\n",
        "# test_y = to_categorical(test_Y)\n",
        "# test_x = test_X[:,0,:,:,:]\n",
        " "
      ],
      "execution_count": null,
      "outputs": []
    },
    {
      "cell_type": "code",
      "metadata": {
        "id": "4Ba-qsLT3kwg"
      },
      "source": [
        "labels = ['UV', 'non-UV']"
      ],
      "execution_count": null,
      "outputs": []
    },
    {
      "cell_type": "code",
      "metadata": {
        "id": "DfmJpi0Q3l3s"
      },
      "source": [
        "# inputUV = L.Input(shape=inputShape)\n",
        "# testmodel = OnlyDNCNN(inputUV)\n",
        "# testmodel.load_weights('/content/gdrive/MyDrive/UV3/result/DNCNN_test.h5')\n",
        "CNN_model = efn.EfficientNetB0()\n",
        "testmodel = fusionModel(CNN_model)\n",
        "testmodel.load_weights('/content/gdrive/MyDrive/UV3/result/fusionModel_test.h5')\n"
      ],
      "execution_count": null,
      "outputs": []
    },
    {
      "cell_type": "code",
      "metadata": {
        "colab": {
          "base_uri": "https://localhost:8080/"
        },
        "id": "F9CLE_8C3ptt",
        "outputId": "e6c43a0d-7cd1-4aa4-cb13-6a967a5d65e3"
      },
      "source": [
        "Y_pred = testmodel.predict(test_x, verbose=1)"
      ],
      "execution_count": null,
      "outputs": [
        {
          "output_type": "stream",
          "text": [
            "11/11 [==============================] - 21s 2s/step\n"
          ],
          "name": "stdout"
        }
      ]
    },
    {
      "cell_type": "code",
      "metadata": {
        "colab": {
          "base_uri": "https://localhost:8080/"
        },
        "id": "uYjreqVB3y9L",
        "outputId": "d3387c9f-4003-44b8-cf88-429bf4620043"
      },
      "source": [
        "cm, oa, kappa = get_cm_oa_kappa(test_Y, Y_pred)\n",
        "print('acc: {:.2f}%  Kappa: {:.4f}'.format(oa,kappa))\n",
        "print('acc: {:2f}%'.format(oa))\n",
        "print(cm)"
      ],
      "execution_count": null,
      "outputs": [
        {
          "output_type": "stream",
          "text": [
            "acc: 90.06%  Kappa: 0.7864\n",
            "acc: 90.058480%\n",
            "[[109  19]\n",
            " [ 15 199]]\n"
          ],
          "name": "stdout"
        }
      ]
    },
    {
      "cell_type": "code",
      "metadata": {
        "colab": {
          "base_uri": "https://localhost:8080/",
          "height": 315
        },
        "id": "q0oXrzk43zPy",
        "outputId": "a82eca14-3f24-4bc6-bc13-196b40d6a1a0"
      },
      "source": [
        "plot_matrix(test_Y ,Y_pred, [0,1], title='Confusion Matrix',axis_labels=labels)"
      ],
      "execution_count": null,
      "outputs": [
        {
          "output_type": "display_data",
          "data": {
            "image/png": "[encoded data removed]",
            "text/plain": [
              "<Figure size 432x288 with 2 Axes>"
            ]
          },
          "metadata": {
            "needs_background": "light"
          }
        }
      ]
    },
    {
      "cell_type": "code",
      "metadata": {
        "id": "eiry5THn31-1"
      },
      "source": [
        ""
      ],
      "execution_count": null,
      "outputs": []
    }
  ]
}