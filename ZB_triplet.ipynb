{
  "nbformat": 4,
  "nbformat_minor": 0,
  "metadata": {
    "colab": {
      "name": "ZB_triplet.ipynb",
      "provenance": [],
      "collapsed_sections": [],
      "authorship_tag": "ABX9TyMLFmt1MbDOYvndJnaGz5qO",
      "include_colab_link": true
    },
    "kernelspec": {
      "name": "python3",
      "display_name": "Python 3"
    },
    "language_info": {
      "name": "python"
    },
    "accelerator": "GPU"
  },
  "cells": [
    {
      "cell_type": "markdown",
      "metadata": {
        "id": "view-in-github",
        "colab_type": "text"
      },
      "source": [
        "<a href=\"https://colab.research.google.com/github/cbachen1997/CAUstudy/blob/master/ZB_triplet.ipynb\" target=\"_parent\"><img src=\"https://colab.research.google.com/assets/colab-badge.svg\" alt=\"Open In Colab\"/></a>"
      ]
    },
    {
      "cell_type": "code",
      "metadata": {
        "id": "X6cbfEo0eHjm",
        "colab": {
          "base_uri": "https://localhost:8080/"
        },
        "outputId": "f33ba8b8-aabb-45df-d4f1-01b47fc8c617"
      },
      "source": [
        "#挂载谷歌云盘\n",
        "from google.colab import drive\n",
        "drive.mount('/content/gdrive')\n",
        "####google云盘授权#####\n",
        "##每个notebook执行一次###\n",
        "__author__='CBA'\n",
        "# from google.colab import drive\n",
        "\n",
        "#增加PyDrive操作库\n",
        "from pydrive.auth import GoogleAuth\n",
        "from pydrive.drive import GoogleDrive\n",
        "from google.colab import auth\n",
        "from oauth2client.client import GoogleCredentials\n",
        "\n",
        "#授权登录\n",
        "auth.authenticate_user()\n",
        "gauth=GoogleAuth()"
      ],
      "execution_count": null,
      "outputs": [
        {
          "output_type": "stream",
          "text": [
            "Mounted at /content/gdrive\n"
          ],
          "name": "stdout"
        }
      ]
    },
    {
      "cell_type": "code",
      "metadata": {
        "id": "bFmUdEsLAEUP"
      },
      "source": [
        "from __future__ import print_function, division\n",
        "import tensorflow as tf\n",
        "from sklearn.utils import shuffle\n",
        "import keras as K\n",
        "import keras.layers as L\n",
        "import numpy as np\n",
        "import os\n",
        "import time\n",
        "import h5py\n",
        "import argparse \n",
        "import random\n",
        "import cv2\n",
        "from tqdm import *\n",
        "from keras.callbacks import ModelCheckpoint\n",
        "from keras.callbacks import EarlyStopping\n",
        "from keras.callbacks import LambdaCallback\n",
        "# from keras.callbacks import TensorBoard\n",
        "from keras import regularizers\n",
        "from tensorflow.keras.models import Model\n",
        "from __future__ import print_function, division\n",
        "from keras.layers import *\n",
        "# from keras.layers import Dense,Dropout\n",
        "from sklearn.utils import shuffle\n",
        "from keras.layers.core import Flatten\n",
        "from keras.utils import to_categorical\n",
        "# from tensorflow.keras.layers import Conv2D\n",
        "from tensorflow.python.keras.layers.advanced_activations import LeakyReLU\n",
        "# from keras.layers.core import Lambda\n",
        "from keras import backend as Kb\n",
        "from collections import Counter"
      ],
      "execution_count": null,
      "outputs": []
    },
    {
      "cell_type": "code",
      "metadata": {
        "id": "ZqKjOPpIAK0I"
      },
      "source": [
        "#parameter设定\n",
        "r = 5  # 半径，patch_size = 2*r +1\n",
        "bachsize = 50\n",
        "NUM_CLASS = 7\n",
        "num=20#每类抽10\n",
        "# alpha=0.05\n",
        "hchn = 12\n",
        "ksize = 2 * r + 1\n",
        "inputshape = (ksize,ksize,hchn)"
      ],
      "execution_count": null,
      "outputs": []
    },
    {
      "cell_type": "code",
      "metadata": {
        "id": "y3Q_XLgHATYL"
      },
      "source": [
        "X_train = np.load('/content/gdrive/MyDrive/CM/roi_patches/zhangbei_delete_bad_X.npy')\n",
        "Y_train = np.load('/content/gdrive/MyDrive/CM/roi_patches/zhangbei_delete_bad_Y.npy')\n",
        "X_val = np.load('/content/gdrive/MyDrive/CM/roi_patches/zb_val_X_r=5.npy')\n",
        "Y_val = np.load('/content/gdrive/MyDrive/CM/roi_patches/zb_val_Y_r=5.npy')\n",
        "X_test = np.load('/content/gdrive/MyDrive/CM/roi_patches/zb_test_X_r=5.npy')\n",
        "Y_test = np.load('/content/gdrive/MyDrive/CM/roi_patches/zb_test_Y_r=5.npy')"
      ],
      "execution_count": null,
      "outputs": []
    },
    {
      "cell_type": "code",
      "metadata": {
        "id": "8U_zeuRhDLi-"
      },
      "source": [
        "#乱序\n",
        "permutation = np.random.permutation(X_train.shape[0])    \n",
        "# print(permutation)    \n",
        "X_train = X_train[permutation]                                       \n",
        "Y_train = Y_train[permutation]                                      \n"
      ],
      "execution_count": null,
      "outputs": []
    },
    {
      "cell_type": "code",
      "metadata": {
        "id": "nfrLL1miTste"
      },
      "source": [
        ""
      ],
      "execution_count": null,
      "outputs": []
    },
    {
      "cell_type": "code",
      "metadata": {
        "id": "Dg-sGhPmAOcS"
      },
      "source": [
        "#########################################Machine learning test##############################\n",
        "from sklearn.tree import DecisionTreeClassifier\n",
        "from sklearn.ensemble import RandomForestClassifier\n",
        "from sklearn.datasets import load_wine\n",
        "from sklearn.svm import SVC\n",
        "from sklearn.preprocessing import StandardScaler\n",
        "from sklearn.model_selection import GridSearchCV, train_test_split\n",
        "from sklearn.model_selection import cross_val_score\n",
        "import matplotlib.pyplot as plt"
      ],
      "execution_count": null,
      "outputs": []
    },
    {
      "cell_type": "code",
      "metadata": {
        "id": "BltyV4j-AR2I"
      },
      "source": [
        "svc = SVC(kernel='rbf', class_weight='balanced',)\n",
        "rfc = RandomForestClassifier(n_estimators=250,)\n",
        "#随机森林86~88%\n",
        "#SVM 78.1%\n",
        "#backbone+CE = 93.47%\n",
        "#backbone+CE+dropout = 93.86%"
      ],
      "execution_count": null,
      "outputs": []
    },
    {
      "cell_type": "code",
      "metadata": {
        "id": "GBxfRO6ICe4y"
      },
      "source": [
        "X_train = np.reshape(X_train,(1214,-1))\n"
      ],
      "execution_count": null,
      "outputs": []
    },
    {
      "cell_type": "code",
      "metadata": {
        "colab": {
          "base_uri": "https://localhost:8080/",
          "height": 282
        },
        "id": "_9jsXLdkCW7J",
        "outputId": "62a61ada-0357-4086-f178-682736aeda72"
      },
      "source": [
        "rfc_s = cross_val_score(rfc,X_train,Y_train,cv=5)\n",
        "plt.plot(range(1,6),rfc_s,label = \"RandomForest\")"
      ],
      "execution_count": null,
      "outputs": [
        {
          "output_type": "execute_result",
          "data": {
            "text/plain": [
              "[<matplotlib.lines.Line2D at 0x7f3e8941bcd0>]"
            ]
          },
          "metadata": {
            "tags": []
          },
          "execution_count": 232
        },
        {
          "output_type": "display_data",
          "data": {
            "image/png": "[encoded data removed]",
            "text/plain": [
              "<Figure size 432x288 with 1 Axes>"
            ]
          },
          "metadata": {
            "tags": [],
            "needs_background": "light"
          }
        }
      ]
    },
    {
      "cell_type": "code",
      "metadata": {
        "colab": {
          "base_uri": "https://localhost:8080/",
          "height": 282
        },
        "id": "BBwh0KfkF4GM",
        "outputId": "dd1b878b-9915-445c-c27f-d52e2e006e4c"
      },
      "source": [
        "svc_s = cross_val_score(svc,X_train,Y_train,cv=5)\n",
        "plt.plot(range(1,6),svc_s,label = \"SVM\")"
      ],
      "execution_count": null,
      "outputs": [
        {
          "output_type": "execute_result",
          "data": {
            "text/plain": [
              "[<matplotlib.lines.Line2D at 0x7fbb525cd990>]"
            ]
          },
          "metadata": {
            "tags": []
          },
          "execution_count": 99
        },
        {
          "output_type": "display_data",
          "data": {
            "image/png": "[encoded data removed]",
            "text/plain": [
              "<Figure size 432x288 with 1 Axes>"
            ]
          },
          "metadata": {
            "tags": [],
            "needs_background": "light"
          }
        }
      ]
    },
    {
      "cell_type": "code",
      "metadata": {
        "id": "jEAXql1oCrmm"
      },
      "source": [
        "X_test = np.reshape(X_test,(521,-1))"
      ],
      "execution_count": null,
      "outputs": []
    },
    {
      "cell_type": "code",
      "metadata": {
        "id": "bQHP3rWJCoY6"
      },
      "source": [
        "rfc = rfc.fit(X_train, Y_train)\n",
        "rfc.score(X_test,Y_test)\n",
        "rfc.feature_importances_\n",
        "rfc.apply(X_test)\n",
        "rfc.predict(X_test)\n",
        "predict_results=rfc.predict(X_test)"
      ],
      "execution_count": null,
      "outputs": []
    },
    {
      "cell_type": "code",
      "metadata": {
        "id": "sp9pCS--F_gn"
      },
      "source": [
        "svc = svc.fit(X_train, Y_train)\n",
        "svc.score(X_test,Y_test)\n",
        "\n",
        "svc.predict(X_test)\n",
        "predict_results=svc.predict(X_test)"
      ],
      "execution_count": null,
      "outputs": []
    },
    {
      "cell_type": "code",
      "metadata": {
        "id": "21Dd3xKuC7qs"
      },
      "source": [
        "from sklearn.metrics import accuracy_score\n",
        "from sklearn.metrics import confusion_matrix\n",
        "from sklearn.metrics import cohen_kappa_score\n",
        "from sklearn.metrics import classification_report\n",
        "# print(accuracy_score(predict_results, Y_test))\n",
        "# conf_mat = confusion_matrix(Y_test, predict_results)\n",
        "# print(conf_mat)\n",
        "# print(classification_report(Y_test, predict_results))"
      ],
      "execution_count": null,
      "outputs": []
    },
    {
      "cell_type": "code",
      "metadata": {
        "id": "HW33uoIoI7c3"
      },
      "source": [
        "from scipy.ndimage.interpolation import map_coordinates as sp_map_coordinates\n",
        "def tf_flatten(a):\n",
        "    \"\"\"Flatten tensor\"\"\"\n",
        "    return tf.reshape(a, [-1])\n",
        "\n",
        "\n",
        "def tf_repeat(a, repeats, axis=0):\n",
        "    \"\"\"TensorFlow version of np.repeat for 1D\"\"\"\n",
        "    # https://github.com/tensorflow/tensorflow/issues/8521\n",
        "    assert len(a.get_shape()) == 1\n",
        "\n",
        "    a = tf.expand_dims(a, -1)\n",
        "    a = tf.tile(a, [1, repeats])\n",
        "    a = tf_flatten(a)\n",
        "    return a\n",
        "\n",
        "\n",
        "def tf_repeat_2d(a, repeats):\n",
        "    \"\"\"Tensorflow version of np.repeat for 2D\"\"\"\n",
        "\n",
        "    assert len(a.get_shape()) == 2\n",
        "    a = tf.expand_dims(a, 0)\n",
        "    a = tf.tile(a, [repeats, 1, 1])\n",
        "    return a\n",
        "\n",
        "\n",
        "def tf_map_coordinates(input, coords, order=1):\n",
        "    \"\"\"Tensorflow verion of scipy.ndimage.map_coordinates\n",
        "\n",
        "    Note that coords is transposed and only 2D is supported\n",
        "\n",
        "    Parameters\n",
        "    ----------\n",
        "    input : tf.Tensor. shape = (s, s)\n",
        "    coords : tf.Tensor. shape = (n_points, 2)\n",
        "    \"\"\"\n",
        "\n",
        "    assert order == 1\n",
        "\n",
        "    coords_lt = tf.cast(tf.floor(coords), 'int32')\n",
        "    #coords_rb = tf.cast(tf.ceil(coords), 'int32')\n",
        "    coords_rb = tf.cast(tf.math.ceil(coords), 'int32')\n",
        "    coords_lb = tf.stack([coords_lt[:, 0], coords_rb[:, 1]], axis=1)\n",
        "    coords_rt = tf.stack([coords_rb[:, 0], coords_lt[:, 1]], axis=1)\n",
        "\n",
        "    vals_lt = tf.gather_nd(input, coords_lt)\n",
        "    vals_rb = tf.gather_nd(input, coords_rb)\n",
        "    vals_lb = tf.gather_nd(input, coords_lb)\n",
        "    vals_rt = tf.gather_nd(input, coords_rt)\n",
        "\n",
        "    coords_offset_lt = coords - tf.cast(coords_lt, 'float32')\n",
        "    vals_t = vals_lt + (vals_rt - vals_lt) * coords_offset_lt[:, 0]\n",
        "    vals_b = vals_lb + (vals_rb - vals_lb) * coords_offset_lt[:, 0]\n",
        "    mapped_vals = vals_t + (vals_b - vals_t) * coords_offset_lt[:, 1]\n",
        "\n",
        "    return mapped_vals\n",
        "\n",
        "\n",
        "def sp_batch_map_coordinates(inputs, coords):\n",
        "    \"\"\"Reference implementation for batch_map_coordinates\"\"\"\n",
        "    coords = coords.clip(0, inputs.shape[1] - 1)\n",
        "    mapped_vals = np.array([\n",
        "        sp_map_coordinates(input, coord.T, mode='nearest', order=1)\n",
        "        for input, coord in zip(inputs, coords)\n",
        "    ])\n",
        "    return mapped_vals\n",
        "\n",
        "\n",
        "def tf_batch_map_coordinates(input, coords, order=1):\n",
        "    \"\"\"Batch version of tf_map_coordinates\n",
        "\n",
        "    Only supports 2D feature maps\n",
        "\n",
        "    Parameters\n",
        "    ----------\n",
        "    input : tf.Tensor. shape = (b, s, s)\n",
        "    coords : tf.Tensor. shape = (b, n_points, 2)\n",
        "\n",
        "    Returns\n",
        "    -------\n",
        "    tf.Tensor. shape = (b, s, s)\n",
        "    \"\"\"\n",
        "\n",
        "    input_shape = tf.shape(input)\n",
        "    batch_size = input_shape[0]\n",
        "    input_size = input_shape[1]\n",
        "    n_coords = tf.shape(coords)[1]\n",
        "\n",
        "    coords = tf.clip_by_value(coords, 0, tf.cast(input_size, 'float32') - 1)\n",
        "    coords_lt = tf.cast(tf.floor(coords), 'int32')\n",
        "    #coords_rb = tf.cast(tf.ceil(coords), 'int32')\n",
        "    coords_rb = tf.cast(tf.math.ceil(coords), 'int32')\n",
        "    coords_lb = tf.stack([coords_lt[..., 0], coords_rb[..., 1]], axis=-1)\n",
        "    coords_rt = tf.stack([coords_rb[..., 0], coords_lt[..., 1]], axis=-1)\n",
        "\n",
        "    idx = tf_repeat(tf.range(batch_size), n_coords)\n",
        "\n",
        "    def _get_vals_by_coords(input, coords):\n",
        "        indices = tf.stack([\n",
        "            idx, tf_flatten(coords[..., 0]), tf_flatten(coords[..., 1])\n",
        "        ], axis=-1)\n",
        "        vals = tf.gather_nd(input, indices)\n",
        "        vals = tf.reshape(vals, (batch_size, n_coords))\n",
        "        return vals\n",
        "\n",
        "    vals_lt = _get_vals_by_coords(input, coords_lt)\n",
        "    vals_rb = _get_vals_by_coords(input, coords_rb)\n",
        "    vals_lb = _get_vals_by_coords(input, coords_lb)\n",
        "    vals_rt = _get_vals_by_coords(input, coords_rt)\n",
        "\n",
        "    coords_offset_lt = coords - tf.cast(coords_lt, 'float32')\n",
        "    vals_t = vals_lt + (vals_rt - vals_lt) * coords_offset_lt[..., 0]\n",
        "    vals_b = vals_lb + (vals_rb - vals_lb) * coords_offset_lt[..., 0]\n",
        "    mapped_vals = vals_t + (vals_b - vals_t) * coords_offset_lt[..., 1]\n",
        "\n",
        "    return mapped_vals\n",
        "\n",
        "\n",
        "def sp_batch_map_offsets(input, offsets):\n",
        "    \"\"\"Reference implementation for tf_batch_map_offsets\"\"\"\n",
        "\n",
        "    batch_size = input.shape[0]\n",
        "    input_size = input.shape[1]\n",
        "\n",
        "    offsets = offsets.reshape(batch_size, -1, 2)\n",
        "    grid = np.stack(np.mgrid[:input_size, :input_size], -1).reshape(-1, 2)\n",
        "    grid = np.repeat([grid], batch_size, axis=0)\n",
        "    coords = offsets + grid\n",
        "    coords = coords.clip(0, input_size - 1)\n",
        "\n",
        "    mapped_vals = sp_batch_map_coordinates(input, coords)\n",
        "    return mapped_vals\n",
        "\n",
        "\n",
        "def tf_batch_map_offsets(input, offsets, order=1):\n",
        "    \"\"\"Batch map offsets into input\n",
        "\n",
        "    Parameters\n",
        "    ---------\n",
        "    input : tf.Tensor. shape = (b, s, s)\n",
        "    offsets: tf.Tensor. shape = (b, s, s, 2)\n",
        "\n",
        "    Returns\n",
        "    -------\n",
        "    tf.Tensor. shape = (b, s, s)\n",
        "    \"\"\"\n",
        "\n",
        "    input_shape = tf.shape(input)\n",
        "    batch_size = input_shape[0]\n",
        "    input_size = input_shape[1]\n",
        "\n",
        "    offsets = tf.reshape(offsets, (batch_size, -1, 2))\n",
        "    grid = tf.meshgrid(\n",
        "        tf.range(input_size), tf.range(input_size), indexing='ij'\n",
        "    )\n",
        "    grid = tf.stack(grid, axis=-1)\n",
        "    grid = tf.cast(grid, 'float32')\n",
        "    grid = tf.reshape(grid, (-1, 2))\n",
        "    grid = tf_repeat_2d(grid, batch_size)\n",
        "    coords = offsets + grid\n",
        "\n",
        "    mapped_vals = tf_batch_map_coordinates(input, coords)\n",
        "    return mapped_vals"
      ],
      "execution_count": null,
      "outputs": []
    },
    {
      "cell_type": "code",
      "metadata": {
        "id": "CUJ8uy83I-Mo"
      },
      "source": [
        "class ConvOffset2D(Conv2D):\n",
        "    \"\"\"ConvOffset2D\n",
        "\n",
        "    Convolutional layer responsible for learning the 2D offsets and output the\n",
        "    deformed feature map using bilinear interpolation\n",
        "\n",
        "    Note that this layer does not perform convolution on the deformed feature\n",
        "    map. See get_deform_cnn in cnn.py for usage\n",
        "    \"\"\"\n",
        "\n",
        "    def __init__(self, filters, init_normal_stddev=0.01, **kwargs):\n",
        "        \"\"\"Init\n",
        "\n",
        "        Parameters\n",
        "        ----------\n",
        "        filters : int\n",
        "            Number of channel of the input feature map\n",
        "        init_normal_stddev : float\n",
        "            Normal kernel initialization\n",
        "        **kwargs:\n",
        "            Pass to superclass. See Con2D layer in Keras\n",
        "        \"\"\"\n",
        "\n",
        "        self.filters = filters\n",
        "        super(ConvOffset2D, self).__init__(\n",
        "            self.filters * 2, (3, 3), padding='same', use_bias=False,\n",
        "            kernel_initializer=K.initializers.RandomNormal(0, init_normal_stddev),\n",
        "            **kwargs\n",
        "        )\n",
        "\n",
        "    def call(self, x):\n",
        "        \"\"\"Return the deformed featured map\"\"\"\n",
        "        x_shape = x.get_shape()\n",
        "        offsets = super(ConvOffset2D, self).call(x)\n",
        "\n",
        "        # offsets: (b*c, h, w, 2)\n",
        "        offsets = self._to_bc_h_w_2(offsets, x_shape)\n",
        "\n",
        "        # x: (b*c, h, w)\n",
        "        x = self._to_bc_h_w(x, x_shape)\n",
        "\n",
        "        # X_offset: (b*c, h, w)\n",
        "        x_offset = tf_batch_map_offsets(x, offsets)\n",
        "\n",
        "        # x_offset: (b, h, w, c)\n",
        "        x_offset = self._to_b_h_w_c(x_offset, x_shape)\n",
        "\n",
        "        return x_offset\n",
        "\n",
        "    def compute_output_shape(self, input_shape):\n",
        "        \"\"\"Output shape is the same as input shape\n",
        "\n",
        "        Because this layer does only the deformation part\n",
        "        \"\"\"\n",
        "        return input_shape\n",
        "\n",
        "    @staticmethod\n",
        "    def _to_bc_h_w_2(x, x_shape):\n",
        "        \"\"\"(b, h, w, 2c) -> (b*c, h, w, 2)\"\"\"\n",
        "        x = tf.transpose(x, [0, 3, 1, 2])\n",
        "        x = tf.reshape(x, (-1, int(x_shape[1]), int(x_shape[2]), 2))\n",
        "        return x\n",
        "\n",
        "    @staticmethod\n",
        "    def _to_bc_h_w(x, x_shape):\n",
        "        \"\"\"(b, h, w, c) -> (b*c, h, w)\"\"\"\n",
        "        x = tf.transpose(x, [0, 3, 1, 2])\n",
        "        x = tf.reshape(x, (-1, int(x_shape[1]), int(x_shape[2])))\n",
        "        return x\n",
        "\n",
        "    @staticmethod\n",
        "    def _to_b_h_w_c(x, x_shape):\n",
        "        \"\"\"(b*c, h, w) -> (b, h, w, c)\"\"\"\n",
        "        x = tf.reshape(\n",
        "            x, (-1, int(x_shape[3]), int(x_shape[1]), int(x_shape[2]))\n",
        "        )\n",
        "        x = tf.transpose(x, [0, 2, 3, 1])\n",
        "        return x"
      ],
      "execution_count": null,
      "outputs": []
    },
    {
      "cell_type": "code",
      "metadata": {
        "id": "fwm2hVw5JALf"
      },
      "source": [
        "def BN_LeakyReLU(input):\n",
        "    \n",
        "    norm = L.BatchNormalization(axis=-1)(input)\n",
        "    output = L.advanced_activations.LeakyReLU(alpha=0.2)(norm)\n",
        "    \n",
        "    return output"
      ],
      "execution_count": null,
      "outputs": []
    },
    {
      "cell_type": "code",
      "metadata": {
        "id": "9hNPzkJiDvgR"
      },
      "source": [
        "######################################backbone部分######################################\n",
        "def feature_extraction_CNN(input_shape, n_filters=64):\n",
        "    # X_input=L.Input(input_shape)\n",
        "    conv1 = L.Conv2D(n_filters, (3, 3), padding='same', kernel_initializer='he_normal',\n",
        "                    kernel_regularizer=regularizers.l2(0.0001))(input_shape)\n",
        "   \n",
        "    conv1 = BN_LeakyReLU(conv1)\n",
        "    conv1 = L.Conv2D(2*n_filters, (3, 3), padding='same', kernel_initializer='he_normal',\n",
        "                    kernel_regularizer=regularizers.l2(0.0001))(conv1)\n",
        "    conv1 = BN_LeakyReLU(conv1)\n",
        "    \n",
        "    pool1 = L.MaxPool2D(pool_size=(2, 2),padding='same')(conv1)\n",
        "    # print(pool1)\n",
        "    #可变形block A1\n",
        "   \n",
        "    offset_conv2_1 = ConvOffset2D(2*n_filters)(pool1)\n",
        "   \n",
        "    conv2_1 = L.Conv2D(n_filters, (3, 3), padding='same', kernel_initializer='he_normal',\n",
        "                    kernel_regularizer=regularizers.l2(0.0001))(offset_conv2_1)\n",
        "    conv2_1 = BN_LeakyReLU(conv2_1)\n",
        "    \n",
        "    offset_conv2_2 = ConvOffset2D(n_filters)(conv2_1)\n",
        "    conv2_2 = L.Conv2D(int(0.5*n_filters), (3, 3), padding='same', kernel_initializer='he_normal',\n",
        "                    kernel_regularizer=regularizers.l2(0.0001))(offset_conv2_2)\n",
        "    conv2_2 = BN_LeakyReLU(conv2_2)\n",
        "    \n",
        "    offset_conv2_3 = ConvOffset2D(int(0.5*n_filters))(conv2_2)\n",
        "    conv2_3 = L.Conv2D(int(0.5*n_filters), (3, 3), padding='same', kernel_initializer='he_normal',\n",
        "                    kernel_regularizer=regularizers.l2(0.0001))(offset_conv2_3)\n",
        "    conv2_3 = BN_LeakyReLU(conv2_3)\n",
        "    \n",
        "    conv2_4 = L.concatenate([conv2_1, conv2_2, conv2_3], axis=-1)\n",
        "    # print(conv2_4)\n",
        "    conv2_5 = L.merge.add([conv2_4, pool1])\n",
        "\n",
        "    #可变形block A2\n",
        "    offset_conv2_6 = ConvOffset2D(2*n_filters)(conv2_5)\n",
        "    conv2_6 = L.Conv2D(n_filters, (3, 3), padding='same', kernel_initializer='he_normal',\n",
        "                    kernel_regularizer=regularizers.l2(0.0001))(offset_conv2_6)\n",
        "    conv2_6 = BN_LeakyReLU(conv2_6)\n",
        "    \n",
        "    offset_conv2_7 = ConvOffset2D(n_filters)(conv2_6)\n",
        "    conv2_7 = L.Conv2D(int(0.5*n_filters), (3, 3), padding='same', kernel_initializer='he_normal',\n",
        "                    kernel_regularizer=regularizers.l2(0.0001))(offset_conv2_7)\n",
        "    conv2_7 = BN_LeakyReLU(conv2_7)\n",
        "    \n",
        "    offset_conv2_8 = ConvOffset2D(int(0.5*n_filters))(conv2_7)\n",
        "    conv2_8 = L.Conv2D(int(0.5*n_filters), (3, 3), padding='same', kernel_initializer='he_normal',\n",
        "                    kernel_regularizer=regularizers.l2(0.0001))(offset_conv2_8)\n",
        "    conv2_8 = BN_LeakyReLU(conv2_8)\n",
        "    \n",
        "    conv2_9 = L.concatenate([conv2_6, conv2_7, conv2_8], axis=-1)\n",
        "    \n",
        "    conv2_10 = L.merge.add([conv2_9, conv2_5])\n",
        "    \n",
        "    \n",
        "    #pool2 = L.MaxPool2D(pool_size=(2, 2),padding='same')(conv2_5)\n",
        "    \n",
        "    conv3 = L.Conv2D(4*n_filters, (3, 3), padding='valid', strides=(2, 2), kernel_initializer='he_normal',\n",
        "                    kernel_regularizer=regularizers.l2(0.0001))(conv2_5)\n",
        "    \n",
        "    offset_conv3_1 = ConvOffset2D(4*n_filters)(conv3)\n",
        "    \n",
        "    conv3_1 = L.Conv2D(2*n_filters, (3, 3), padding='same', kernel_initializer='he_normal',\n",
        "                    kernel_regularizer=regularizers.l2(0.0001))(offset_conv3_1)\n",
        "    conv3_1 = BN_LeakyReLU(conv3_1)\n",
        "    \n",
        "    offset_conv3_2 = ConvOffset2D(2*n_filters)(conv3_1)\n",
        "    conv3_2 = L.Conv2D(n_filters, (3, 3), padding='same', kernel_initializer='he_normal',\n",
        "                    kernel_regularizer=regularizers.l2(0.0001))(offset_conv3_2)\n",
        "    conv3_2 = BN_LeakyReLU(conv3_2)\n",
        "    offset_conv3_3 = ConvOffset2D(n_filters)(conv3_2)\n",
        "    conv3_3 = L.Conv2D(n_filters, (3, 3), padding='same', kernel_initializer='he_normal',\n",
        "                    kernel_regularizer=regularizers.l2(0.0001))(offset_conv3_3)\n",
        "    conv3_3 = BN_LeakyReLU(conv3_3)\n",
        "    \n",
        "    conv3_4 = L.concatenate([conv3_1, conv3_2, conv3_3], axis=-1)\n",
        "    \n",
        "    conv3_5 = L.merge.add([conv3_4, conv3])\n",
        " \n",
        "    #改了一下4*\n",
        "    offset_conv3_6 = ConvOffset2D(n_filters)(conv3_2)\n",
        "    \n",
        "    conv3_6 = L.Conv2D(2*n_filters, (3, 3), padding='same', kernel_initializer='he_normal',\n",
        "                    kernel_regularizer=regularizers.l2(0.0001))(offset_conv3_6)\n",
        "    conv3_6 = BN_LeakyReLU(conv3_6)\n",
        "    \n",
        "    offset_conv3_7 = ConvOffset2D(2*n_filters)(conv3_6)\n",
        "    conv3_7 = L.Conv2D(n_filters, (3, 3), padding='same', kernel_initializer='he_normal',\n",
        "                    kernel_regularizer=regularizers.l2(0.0001))(offset_conv3_7)\n",
        "    conv3_7 = BN_LeakyReLU(conv3_7)\n",
        "    \n",
        "    offset_conv3_8 = ConvOffset2D(n_filters)(conv3_7)\n",
        "    conv3_8 = L.Conv2D(n_filters, (3, 3), padding='same', kernel_initializer='he_normal',\n",
        "                    kernel_regularizer=regularizers.l2(0.0001))(offset_conv3_8)\n",
        "    conv3_8 = BN_LeakyReLU(conv3_8)\n",
        "    \n",
        "    conv3_9 = L.concatenate([conv3_6, conv3_7, conv3_8], axis=-1)\n",
        "    \n",
        "    conv3_10 = L.merge.add([conv3_9, conv3_5])\n",
        "    \n",
        "    \n",
        "    #pool3 = L.MaxPool2D(pool_size=(2, 2),padding='same')(conv3)\n",
        "    #输出128维计算度量\n",
        "    conv4 = L.Conv2D(n_filters*2, (3, 3), padding='same', kernel_initializer='he_normal',\n",
        "                    kernel_regularizer=regularizers.l2(0.0001))(conv3_10)\n",
        "    # print(conv4)\n",
        "    gap = L.GlobalAvgPool2D()(conv4)\n",
        "    # print(gap)\n",
        "    #增加功能\n",
        "    X = Dense(1024,kernel_regularizer=regularizers.l2(0.01),name='dense_layer1')(gap)\n",
        "    X1 = Dropout(rate=0.5)(X)\n",
        "    X2 = Dense(256,kernel_regularizer=regularizers.l2(0.01),name='dense_layer2')(X1)\n",
        "    spatial_result = X2\n",
        "    print('输出向量维度：' + str(spatial_result.shape))\n",
        "    return spatial_result\n",
        "def feature_extraction_CNN_tri(input_shape, n_filters=64):\n",
        "    X_input=L.Input(input_shape)\n",
        "    conv1 = L.Conv2D(n_filters, (3, 3), padding='same', kernel_initializer='he_normal',\n",
        "                    kernel_regularizer=regularizers.l2(0.0001))(X_input)\n",
        "   \n",
        "    conv1 = BN_LeakyReLU(conv1)\n",
        "    conv1 = L.Conv2D(2*n_filters, (3, 3), padding='same', kernel_initializer='he_normal',\n",
        "                    kernel_regularizer=regularizers.l2(0.0001))(conv1)\n",
        "    conv1 = BN_LeakyReLU(conv1)\n",
        "    \n",
        "    pool1 = L.MaxPool2D(pool_size=(2, 2),padding='same')(conv1)\n",
        "    # print(pool1)\n",
        "    #可变形block A1\n",
        "   \n",
        "    offset_conv2_1 = ConvOffset2D(2*n_filters)(pool1)\n",
        "   \n",
        "    conv2_1 = L.Conv2D(n_filters, (3, 3), padding='same', kernel_initializer='he_normal',\n",
        "                    kernel_regularizer=regularizers.l2(0.0001))(offset_conv2_1)\n",
        "    conv2_1 = BN_LeakyReLU(conv2_1)\n",
        "    \n",
        "    offset_conv2_2 = ConvOffset2D(n_filters)(conv2_1)\n",
        "    conv2_2 = L.Conv2D(int(0.5*n_filters), (3, 3), padding='same', kernel_initializer='he_normal',\n",
        "                    kernel_regularizer=regularizers.l2(0.0001))(offset_conv2_2)\n",
        "    conv2_2 = BN_LeakyReLU(conv2_2)\n",
        "    \n",
        "    offset_conv2_3 = ConvOffset2D(int(0.5*n_filters))(conv2_2)\n",
        "    conv2_3 = L.Conv2D(int(0.5*n_filters), (3, 3), padding='same', kernel_initializer='he_normal',\n",
        "                    kernel_regularizer=regularizers.l2(0.0001))(offset_conv2_3)\n",
        "    conv2_3 = BN_LeakyReLU(conv2_3)\n",
        "    \n",
        "    conv2_4 = L.concatenate([conv2_1, conv2_2, conv2_3], axis=-1)\n",
        "    # print(conv2_4)\n",
        "    conv2_5 = L.merge.add([conv2_4, pool1])\n",
        "\n",
        "    #可变形block A2\n",
        "    offset_conv2_6 = ConvOffset2D(2*n_filters)(conv2_5)\n",
        "    conv2_6 = L.Conv2D(n_filters, (3, 3), padding='same', kernel_initializer='he_normal',\n",
        "                    kernel_regularizer=regularizers.l2(0.0001))(offset_conv2_6)\n",
        "    conv2_6 = BN_LeakyReLU(conv2_6)\n",
        "    \n",
        "    offset_conv2_7 = ConvOffset2D(n_filters)(conv2_6)\n",
        "    conv2_7 = L.Conv2D(int(0.5*n_filters), (3, 3), padding='same', kernel_initializer='he_normal',\n",
        "                    kernel_regularizer=regularizers.l2(0.0001))(offset_conv2_7)\n",
        "    conv2_7 = BN_LeakyReLU(conv2_7)\n",
        "    \n",
        "    offset_conv2_8 = ConvOffset2D(int(0.5*n_filters))(conv2_7)\n",
        "    conv2_8 = L.Conv2D(int(0.5*n_filters), (3, 3), padding='same', kernel_initializer='he_normal',\n",
        "                    kernel_regularizer=regularizers.l2(0.0001))(offset_conv2_8)\n",
        "    conv2_8 = BN_LeakyReLU(conv2_8)\n",
        "    \n",
        "    conv2_9 = L.concatenate([conv2_6, conv2_7, conv2_8], axis=-1)\n",
        "    \n",
        "    conv2_10 = L.merge.add([conv2_9, conv2_5])\n",
        "    \n",
        "    \n",
        "    #pool2 = L.MaxPool2D(pool_size=(2, 2),padding='same')(conv2_5)\n",
        "    \n",
        "    conv3 = L.Conv2D(4*n_filters, (3, 3), padding='valid', strides=(2, 2), kernel_initializer='he_normal',\n",
        "                    kernel_regularizer=regularizers.l2(0.0001))(conv2_5)\n",
        "    \n",
        "    offset_conv3_1 = ConvOffset2D(4*n_filters)(conv3)\n",
        "    \n",
        "    conv3_1 = L.Conv2D(2*n_filters, (3, 3), padding='same', kernel_initializer='he_normal',\n",
        "                    kernel_regularizer=regularizers.l2(0.0001))(offset_conv3_1)\n",
        "    conv3_1 = BN_LeakyReLU(conv3_1)\n",
        "    \n",
        "    offset_conv3_2 = ConvOffset2D(2*n_filters)(conv3_1)\n",
        "    conv3_2 = L.Conv2D(n_filters, (3, 3), padding='same', kernel_initializer='he_normal',\n",
        "                    kernel_regularizer=regularizers.l2(0.0001))(offset_conv3_2)\n",
        "    conv3_2 = BN_LeakyReLU(conv3_2)\n",
        "    offset_conv3_3 = ConvOffset2D(n_filters)(conv3_2)\n",
        "    conv3_3 = L.Conv2D(n_filters, (3, 3), padding='same', kernel_initializer='he_normal',\n",
        "                    kernel_regularizer=regularizers.l2(0.0001))(offset_conv3_3)\n",
        "    conv3_3 = BN_LeakyReLU(conv3_3)\n",
        "    \n",
        "    conv3_4 = L.concatenate([conv3_1, conv3_2, conv3_3], axis=-1)\n",
        "    \n",
        "    conv3_5 = L.merge.add([conv3_4, conv3])\n",
        " \n",
        "    #改了一下4*\n",
        "    offset_conv3_6 = ConvOffset2D(n_filters)(conv3_2)\n",
        "    \n",
        "    conv3_6 = L.Conv2D(2*n_filters, (3, 3), padding='same', kernel_initializer='he_normal',\n",
        "                    kernel_regularizer=regularizers.l2(0.0001))(offset_conv3_6)\n",
        "    conv3_6 = BN_LeakyReLU(conv3_6)\n",
        "    \n",
        "    offset_conv3_7 = ConvOffset2D(2*n_filters)(conv3_6)\n",
        "    conv3_7 = L.Conv2D(n_filters, (3, 3), padding='same', kernel_initializer='he_normal',\n",
        "                    kernel_regularizer=regularizers.l2(0.0001))(offset_conv3_7)\n",
        "    conv3_7 = BN_LeakyReLU(conv3_7)\n",
        "    \n",
        "    offset_conv3_8 = ConvOffset2D(n_filters)(conv3_7)\n",
        "    conv3_8 = L.Conv2D(n_filters, (3, 3), padding='same', kernel_initializer='he_normal',\n",
        "                    kernel_regularizer=regularizers.l2(0.0001))(offset_conv3_8)\n",
        "    conv3_8 = BN_LeakyReLU(conv3_8)\n",
        "    \n",
        "    conv3_9 = L.concatenate([conv3_6, conv3_7, conv3_8], axis=-1)\n",
        "    \n",
        "    conv3_10 = L.merge.add([conv3_9, conv3_5])\n",
        "    \n",
        "    \n",
        "    #pool3 = L.MaxPool2D(pool_size=(2, 2),padding='same')(conv3)\n",
        "    #输出128维计算度量\n",
        "    conv4 = L.Conv2D(n_filters*2, (3, 3), padding='same', kernel_initializer='he_normal',\n",
        "                    kernel_regularizer=regularizers.l2(0.0001))(conv3_10)\n",
        "    # print(conv4)\n",
        "    gap = L.GlobalAvgPool2D()(conv4)\n",
        "    # print(gap)\n",
        "    #增加功能\n",
        "    X = Dense(1024,kernel_regularizer=regularizers.l2(0.01),name='dense_layer1')(gap)\n",
        "    X1 = Dropout(rate=0.5)(X)\n",
        "    # X1 = Dense(512,kernel_regularizer=regularizers.l2(0.01),name='dense_layer2')(gap)\n",
        "    X2 = Dense(256,kernel_regularizer=regularizers.l2(0.01),name='dense_layer3')(X1)\n",
        "    spatial_result = X2\n",
        "    print('输出向量维度：' + str(spatial_result.shape))\n",
        "    model = Model(inputs=X_input,outputs=spatial_result,name='triplet_Model')\n",
        "    return model\n",
        "    # return spatial_result"
      ],
      "execution_count": null,
      "outputs": []
    },
    {
      "cell_type": "code",
      "metadata": {
        "id": "R1y9Eu4qIXhW"
      },
      "source": [
        "#用一般交叉熵损失\n",
        "def logistic_model():\n",
        "  ksize = 2 * r + 1\n",
        "  inputshape = L.Input((ksize,ksize,hchn))\n",
        "  # inputshape = (ksize,ksize,hchn)\n",
        "  #返回全局平均池化结果\n",
        "  output_feature = feature_extraction_CNN(inputshape, n_filters=64)\n",
        "  logits = L.Dense(NUM_CLASS+1, activation = 'softmax')(output_feature)\n",
        "  model = K.models.Model(inputshape, logits)\n",
        "  adam = K.optimizers.Adam(lr=1e-5,beta_1=0.9, beta_2=0.999, epsilon=None, decay=0.01)\n",
        "  # adam = K.optimizers.Adam(lr=1e-6)\n",
        "  model.compile(optimizer = adam, loss = 'categorical_crossentropy', metrics=['acc'])\n",
        "  \n",
        "  return model"
      ],
      "execution_count": null,
      "outputs": []
    },
    {
      "cell_type": "code",
      "metadata": {
        "id": "Dog0WK-XJHZ4"
      },
      "source": [
        "#logistic训练\n",
        "from tensorflow.keras.callbacks import ModelCheckpoint\n",
        "from tensorflow.keras.callbacks import EarlyStopping\n",
        "def train_logistic(X,Y,X_val,Y_val):\n",
        "  model = logistic_model()\n",
        "  X_train, Y_train = shuffle(X, Y)\n",
        "  model_checkpoint = ModelCheckpoint('/content/gdrive/MyDrive/CM/weight_folder/zhangbei_CE+dropout.h5', monitor='val_loss', verbose=1, \n",
        "                                       save_best_only=True, save_weights_only=True,period=10)\n",
        "\n",
        "  early_stopping =EarlyStopping(monitor='val_loss', patience=10)\n",
        "  print('a')\n",
        "  last_model = model.fit(x=X,y=Y,batch_size=50,epochs=100,shuffle=True,validation_data=(X_val, Y_val),\n",
        "              callbacks=[model_checkpoint, early_stopping])\n",
        "  # model.save('/content/gdrive/MyDrive/CM/all_crossEntropy.h5')"
      ],
      "execution_count": null,
      "outputs": []
    },
    {
      "cell_type": "code",
      "metadata": {
        "id": "YU0EFwShKNHy"
      },
      "source": [
        "Y_train=to_categorical(Y_train)\n",
        "Y_val=to_categorical(Y_val)"
      ],
      "execution_count": null,
      "outputs": []
    },
    {
      "cell_type": "code",
      "metadata": {
        "id": "cLfk5fqhKzrk"
      },
      "source": [
        "from collections import Counter\n",
        "# Counter(Y_test)"
      ],
      "execution_count": null,
      "outputs": []
    },
    {
      "cell_type": "code",
      "metadata": {
        "colab": {
          "base_uri": "https://localhost:8080/"
        },
        "id": "w2J-08TWKN7m",
        "outputId": "f342233c-c776-4ef7-8783-3af9896afe0a"
      },
      "source": [
        "print(X_train.shape)\n",
        "print(X_val.shape)\n",
        "print(X_test.shape)"
      ],
      "execution_count": null,
      "outputs": [
        {
          "output_type": "stream",
          "text": [
            "(971, 11, 11, 12)\n",
            "(243, 11, 11, 12)\n",
            "(521, 11, 11, 12)\n"
          ],
          "name": "stdout"
        }
      ]
    },
    {
      "cell_type": "code",
      "metadata": {
        "id": "XhOkdwvpKPb_"
      },
      "source": [
        "train_logistic(X_train,Y_train,X_val,Y_val)"
      ],
      "execution_count": null,
      "outputs": []
    },
    {
      "cell_type": "code",
      "metadata": {
        "id": "JB_2Klt5P5FF"
      },
      "source": [
        "########################################精度测试\n",
        "from sklearn.metrics import confusion_matrix\n",
        "from sklearn.metrics import accuracy_score, cohen_kappa_score\n",
        "def get_OA(cm):\n",
        "    \n",
        "    total = cm.sum()\n",
        "    \n",
        "    diag_arr = np.diagonal(cm, offset=0)\n",
        "    \n",
        "    correct = diag_arr.sum()\n",
        "    \n",
        "    OA = (correct/total) * 100\n",
        "    \n",
        "    return OA\n",
        "\n",
        "def get_cm_oa_kappa(Y_test, Y_pred,threshold=0.8):\n",
        "    # pred_y=[]\n",
        "    # print(threshold)\n",
        "    # for i in Y_pred:\n",
        "    #   # print(i[1])\n",
        "   \n",
        "    #   if i[1]>=threshold:\n",
        "    #     temp_y=Y_pred[i]\n",
        "    #     pred_y.append(temp_y)\n",
        "    #   else:\n",
        "    #     temp_y=0\n",
        "    #     pred_y.append(temp_y)\n",
        "    # # print(Y_test,Y_pred)\n",
        "    # # print(pred_y)\n",
        "    # cm = confusion_matrix(pred_y, Y_test)\n",
        "    # oa = get_OA(cm)\n",
        "    # kappa = cohen_kappa_score(pred_y, Y_test)\n",
        "\n",
        "    ###############################\n",
        "    Y_pred = np.argmax(Y_pred, axis=1)\n",
        "    \n",
        "    Y_test = Y_test.tolist()\n",
        "    Y_pred = Y_pred.tolist()\n",
        "    # print(Y_pred)\n",
        "    # print('\\n')\n",
        "    # print(Y_test)\n",
        "  \n",
        "    cm = confusion_matrix(Y_pred, Y_test)\n",
        "    \n",
        "    oa = get_OA(cm)\n",
        "    \n",
        "    kappa = cohen_kappa_score(Y_pred, Y_test)\n",
        "    \n",
        "    # print(cm)\n",
        "    \n",
        "    return cm, oa, kappa\n",
        "\n",
        "def load_npz(npz_path):\n",
        "    \n",
        "    npz_arr = np.load(npz_path)\n",
        "    _files = npz_arr.files\n",
        "    \n",
        "    return npz_arr[_files[0]]"
      ],
      "execution_count": null,
      "outputs": []
    },
    {
      "cell_type": "code",
      "metadata": {
        "id": "_QnDNSKQP914"
      },
      "source": [
        "# a=16\n",
        "# import matplotlib.pyplot as plt\n",
        "# plt.imshow(X_test[a,:,:,0],cmap='gray')\n",
        "# print(Y_test[a])"
      ],
      "execution_count": null,
      "outputs": []
    },
    {
      "cell_type": "code",
      "metadata": {
        "colab": {
          "base_uri": "https://localhost:8080/"
        },
        "id": "sewUBdzuQCqw",
        "outputId": "52622456-1fa7-4765-f559-220d36f45513"
      },
      "source": [
        "_weights = '/content/gdrive/MyDrive/CM/weight_folder/zhangbei_CE+dropout.h5'#\n",
        "model1 = logistic_model()\n",
        "model1.load_weights(_weights)"
      ],
      "execution_count": null,
      "outputs": [
        {
          "output_type": "stream",
          "text": [
            "输出向量维度：(None, 256)\n"
          ],
          "name": "stdout"
        }
      ]
    },
    {
      "cell_type": "code",
      "metadata": {
        "colab": {
          "base_uri": "https://localhost:8080/"
        },
        "id": "l5VaapySQHdp",
        "outputId": "53fb0eb6-333b-4a51-f542-2ac34505dfa1"
      },
      "source": [
        "Y_pred = model1.predict(X_test, verbose=1)"
      ],
      "execution_count": null,
      "outputs": [
        {
          "output_type": "stream",
          "text": [
            "17/17 [==============================] - 1s 43ms/step\n"
          ],
          "name": "stdout"
        }
      ]
    },
    {
      "cell_type": "code",
      "metadata": {
        "colab": {
          "base_uri": "https://localhost:8080/"
        },
        "id": "Znti_gj_jSR5",
        "outputId": "ae17ec89-00ba-4f17-cd62-ace2d178cde1"
      },
      "source": [
        "Y_pred.shape"
      ],
      "execution_count": null,
      "outputs": [
        {
          "output_type": "execute_result",
          "data": {
            "text/plain": [
              "(521, 8)"
            ]
          },
          "metadata": {
            "tags": []
          },
          "execution_count": 255
        }
      ]
    },
    {
      "cell_type": "code",
      "metadata": {
        "id": "e9bpv3KakqnB"
      },
      "source": [
        "Y_test.shape"
      ],
      "execution_count": null,
      "outputs": []
    },
    {
      "cell_type": "code",
      "metadata": {
        "id": "9zaUTlPMQI36"
      },
      "source": [
        "# for i in range(50,90,1):\n",
        "#   i = float(i/100)\n",
        "#   cm, oa, kappa = get_cm_oa_kappa(Y_test, Y_pred,threshold=i)\n",
        "#   print('acc: {:.2f}%  Kappa: {:.4f}'.format(oa,kappa))\n",
        "#   print('acc: {:2f}%'.format(oa))"
      ],
      "execution_count": null,
      "outputs": []
    },
    {
      "cell_type": "code",
      "metadata": {
        "colab": {
          "base_uri": "https://localhost:8080/"
        },
        "id": "ekvHNuy5QXm1",
        "outputId": "9554b7a8-0d50-4942-cef4-4d3f729c052f"
      },
      "source": [
        "cm, oa, kappa = get_cm_oa_kappa(Y_test, Y_pred)\n",
        "print('acc: {:.2f}%  Kappa: {:.4f}'.format(oa,kappa))\n",
        "print('acc: {:2f}%'.format(oa))"
      ],
      "execution_count": null,
      "outputs": [
        {
          "output_type": "stream",
          "text": [
            "[[88  1  1  2  0  0  0]\n",
            " [ 0 89  0  0  0  0  0]\n",
            " [ 2  0 89  0  8  4  0]\n",
            " [ 0  0  0 53  0  1  1]\n",
            " [ 0  0  0  0 78  6  1]\n",
            " [ 0  0  0  0  4 79  0]\n",
            " [ 0  0  0  1  0  0 13]]\n",
            "acc: 93.86%  Kappa: 0.9267\n",
            "acc: 93.857965%\n"
          ],
          "name": "stdout"
        }
      ]
    },
    {
      "cell_type": "code",
      "metadata": {
        "id": "nIC0dXhejRrJ"
      },
      "source": [
        ""
      ],
      "execution_count": null,
      "outputs": []
    },
    {
      "cell_type": "code",
      "metadata": {
        "id": "oNW9uvfgHDnX"
      },
      "source": [
        "###############################三元组预训练部分###############################\n",
        "#1 抽取样本\n",
        "#2 embedding\n",
        "#3 构建困难三元组\n",
        "#4 三元组损失\n",
        "#5 建立模型"
      ],
      "execution_count": null,
      "outputs": []
    },
    {
      "cell_type": "code",
      "metadata": {
        "id": "gT4i-IrIOZ4m"
      },
      "source": [
        "X_train = np.load('/content/gdrive/MyDrive/CM/roi_patches/zb_train_X_r=5.npy')\n",
        "Y_train = np.load('/content/gdrive/MyDrive/CM/roi_patches/zb_train_Y_r=5.npy')\n",
        "X_val = np.load('/content/gdrive/MyDrive/CM/roi_patches/zb_val_X_r=5.npy')\n",
        "Y_val = np.load('/content/gdrive/MyDrive/CM/roi_patches/zb_val_Y_r=5.npy')\n",
        "X_test = np.load('/content/gdrive/MyDrive/CM/roi_patches/zb_test_X_r=5.npy')\n",
        "Y_test = np.load('/content/gdrive/MyDrive/CM/roi_patches/zb_test_Y_r=5.npy')"
      ],
      "execution_count": null,
      "outputs": []
    },
    {
      "cell_type": "code",
      "metadata": {
        "id": "Piibrkv8L4FR"
      },
      "source": [
        "#1 抽取样本(每类num个)\n",
        "def sampling(dataset_X,dataset_Y,num):\n",
        "  X = []\n",
        "  Y = []\n",
        "  flag = 0\n",
        "  for i in range(1,8):#7类\n",
        "    classes = i\n",
        "    # print('当前类别为：'+ str(classes))\n",
        "    current_dataset = dataset_X[dataset_Y == classes]\n",
        "    #随机抽\n",
        "    np.random.shuffle(current_dataset)\n",
        "    random_samples = current_dataset[0:num]\n",
        "    if flag == 0 :\n",
        "      random_samples = random_samples.tolist()\n",
        "      X.append(random_samples)\n",
        "      Y = Y + [classes for j in range(0,num)]\n",
        "      X = np.asarray(X[0],dtype=float)\n",
        "      flag = 1\n",
        "    else:\n",
        "      X = np.concatenate((X,random_samples),axis=0)\n",
        "      Y = Y + [classes for j in range(0,num)]\n",
        "  print('当前采样集大小:'+str(X.shape))\n",
        "  Y = np.asarray(Y ,dtype = int)\n",
        "  return X,Y#Y没啥用\n",
        "#2 embedding\n",
        "# def embedding(datanpy,model):\n",
        "#   length  = datanpy.shape[0]\n",
        "#   embed_array = np.zeros((datanpy.shape[0],256))\n",
        "#   for i in range(length):\n",
        "#     embedding=model.predict_on_batch(datanpy)\n",
        "#   return embedding\n",
        "#3 构建困难三元组\n",
        "from scipy.spatial.distance import euclidean\n",
        "from scipy.spatial.distance import pdist\n",
        "def get_hard_triplet(samples_X,samples_Y,model):\n",
        "  \"\"\"\n",
        "  samples:采样结果\n",
        "  model:模型\n",
        "  \"\"\"\n",
        "  num_ = samples_X.shape[0]\n",
        "  embed = model.predict(samples_X)\n",
        "  hard_triplet=np.zeros((num_,3,samples_X.shape[1],samples_X.shape[2],samples_X.shape[3]))\n",
        "  count = 0 \n",
        "  print('构建困难三元组ing...')\n",
        "  for i in range(0,num_):\n",
        "    classes = samples_Y[i]\n",
        "    anchor = embed[i,:]\n",
        "    ##################构建困难正样本##################\n",
        "    #构建除anchor以外的pos样本\n",
        "    pos_embed = embed[samples_Y == classes] \n",
        "    pos_embed = np.delete(pos_embed,np.where(pos_embed == anchor)[0][0],axis=0)\n",
        "    #reshape便于计算\n",
        "    anchor = anchor.reshape((1,-1))\n",
        "    # hard_pos = samples_X[]\n",
        "    #计算距离\n",
        "    anchor = np.repeat(anchor, pos_embed.shape[0], axis=0)\n",
        "    temp_dis=np.sum((anchor-pos_embed)*(anchor-pos_embed),axis=1)\n",
        "    loc_p=temp_dis.argmax()#类内最大距离\n",
        "    hard_pos=samples_X[samples_Y == classes][loc_p,:]#修改\n",
        "    ##################构建困难负样本##################\n",
        "    neg_embed = embed[samples_Y != classes]\n",
        "    anchor = embed[i,:]\n",
        "    anchor = anchor.reshape((1,-1))\n",
        "    anchor = np.repeat(anchor, neg_embed.shape[0], axis=0)\n",
        "    temp_dis=np.sum((anchor-neg_embed)*(anchor-neg_embed),axis=1)\n",
        "    loc_n=temp_dis.argmin()#类间最小距离\n",
        "    hard_neg=samples_X[samples_Y != classes][loc_n,:]\n",
        "    # print(\"最大距离：\"+str(loc_p)+\"最小距离\"+str(loc_n))\n",
        "    hard_triplet[i,0,:,:,:]=samples_X[i,:,:,:]\n",
        "    hard_triplet[i,1,:,:,:]=hard_pos\n",
        "    hard_triplet[i,2,:,:,:]=hard_neg\n",
        "  return hard_triplet\n",
        "#3.1 构建困难三元组嵌套\n",
        "def process_triplet(data_X,label,model,num=num):\n",
        "  #抽样\n",
        "  sample_X,sample_Y=sampling(data_X,label,num=num)\n",
        "  #获取困难三元组\n",
        "  hard_tri=get_hard_triplet(sample_X,sample_Y,model)\n",
        "  print('困难三元组构建完成')\n",
        "  return hard_tri"
      ],
      "execution_count": null,
      "outputs": []
    },
    {
      "cell_type": "code",
      "metadata": {
        "id": "Q5Mv6OlWV3XA"
      },
      "source": [
        "X_train = np.delete(X_train,np.where(temp_dis>1),axis=0)\n",
        "Y_train = np.delete(Y_train,np.where(temp_dis>1),axis=0)"
      ],
      "execution_count": null,
      "outputs": []
    },
    {
      "cell_type": "code",
      "metadata": {
        "colab": {
          "base_uri": "https://localhost:8080/"
        },
        "id": "K_o6PeMfavin",
        "outputId": "46bb6dd4-1d26-40fd-f8ff-5d04b0844804"
      },
      "source": [
        "Counter(Y_train)"
      ],
      "execution_count": null,
      "outputs": [
        {
          "output_type": "execute_result",
          "data": {
            "text/plain": [
              "Counter({1: 168, 2: 168, 3: 168, 4: 87, 5: 168, 6: 168, 7: 28})"
            ]
          },
          "metadata": {
            "tags": []
          },
          "execution_count": 188
        }
      ]
    },
    {
      "cell_type": "code",
      "metadata": {
        "id": "1YHT8jZyZx_P"
      },
      "source": [
        "np.save('/content/gdrive/MyDrive/CM/roi_patches/zhangbei_delete_bad_X.npy', X_train)\n",
        "np.save('/content/gdrive/MyDrive/CM/roi_patches/zhangbei_delete_bad_Y.npy', Y_train)"
      ],
      "execution_count": null,
      "outputs": []
    },
    {
      "cell_type": "code",
      "metadata": {
        "id": "Fv2OqsVBc1Vx"
      },
      "source": [
        "#三元组损失计算\n",
        "def triplet_loss(triplet,alpha):\n",
        "  \"\"\"\n",
        "  triplet=三元组\n",
        "  \"\"\"\n",
        "  anchor,positive,negative=triplet[0],triplet[1],triplet[2]\n",
        "  print(anchor.shape)\n",
        "  #第一步：计算\"anchor\" 与 \"positive\"之间编码的距离，这里需要使用axis=-1\n",
        "  pos_dist = tf.reduce_sum(tf.square(tf.subtract(anchor,positive)),axis=-1)#二范数，-1代表倒数第一个维度即64\n",
        "  #第二步：计算\"anchor\" 与 \"negative\"之间编码的距离，这里需要使用axis=-1\n",
        "  neg_dist = tf.reduce_sum(tf.square(tf.subtract(anchor,negative)),axis=-1)\n",
        "  #第三步：减去之前的两个距离，然后加上alpha\n",
        "  basic_loss = tf.add(tf.subtract(pos_dist,neg_dist),alpha)\n",
        "  #通过取带零的最大值和对训练样本的求和来计算整个公式\n",
        "  loss = tf.reduce_sum(tf.maximum(basic_loss,0))\n",
        "\n",
        "  return loss"
      ],
      "execution_count": null,
      "outputs": []
    },
    {
      "cell_type": "code",
      "metadata": {
        "id": "1mVhERFIbTvj"
      },
      "source": [
        "def create_train_model(model,alpha):\n",
        "  y_pred=[]\n",
        "  anchor_input = Input(inputshape) \n",
        "  positive_input = Input(inputshape)\n",
        "  negative_input = Input(inputshape)\n",
        "  anchor_out = Model(anchor_input, model(anchor_input))\n",
        "  positive_out = Model(positive_input, model(positive_input))\n",
        "  negative_out = Model(negative_input, model(negative_input))\n",
        "  y_pred.append(anchor_out.output)\n",
        "  y_pred.append(positive_out.output)\n",
        "  y_pred.append(negative_out.output)\n",
        "\n",
        "  loss = Lambda(lambda x: triplet_loss(x, alpha), output_shape=[1],name= 'triplet_loss')(y_pred)\n",
        "  # y_true=np.zeros((total,3)).tolist() \n",
        "  # alpha=0.2\n",
        "  return Model(inputs = [anchor_input,positive_input,negative_input], outputs=loss)"
      ],
      "execution_count": null,
      "outputs": []
    },
    {
      "cell_type": "code",
      "metadata": {
        "id": "gE8M-VL_h2UQ"
      },
      "source": [
        "def train_model(datanpy_X,label,model,alpha=0):\n",
        "  # tic = time.clock()\n",
        "  #抽三元组次数\n",
        "  num_times=20\n",
        "  mm = create_train_model(model, alpha)\n",
        "  # print(model)\n",
        "  # print(datanpy_X.shape)\n",
        "  # optm=K.optimizers.Adam(lr=1e-5,beta_1=0.9, beta_2=0.999, epsilon=None, decay=0.01)\n",
        "  optm = K.optimizers.Adam(lr=1e-4,beta_1=0.9, beta_2=0.999, epsilon=None, decay=0.01)\n",
        "  # optm = K.optimizers.RMSprop(lr=1e-4, rho=0.9, epsilon=None,decay=0.01)\n",
        "  # mm.summary()\n",
        "  mm.compile(optimizer=optm,loss=lambda t,p:p)\n",
        "  # model_checkpoint = ModelCheckpoint('/content/gdrive/MyDrive/CM', monitor=None, verbose=1, \n",
        "  # print(1)\n",
        "  model_checkpoint = ModelCheckpoint('/content/gdrive/MyDrive/CM/weight_folder/zhangbei_triplet_weight_alpha=0_2.h5', monitor= 'loss', verbose=1, \n",
        "                                     save_best_only=True, save_weights_only=True,period=5) \n",
        "  batch_print_callback = LambdaCallback(on_epoch_end=lambda batch,logs: print('验证集精度：'+str(use_val(X_train,Y_train,X_val,Y_val,model))))\n",
        "  early_stopping =EarlyStopping(monitor='loss', patience=5)\n",
        "  for i in tqdm(range(num_times)):\n",
        "    hard_tri=process_triplet(datanpy_X,label,model,num=25)#超参数,抽取的三元组个数\n",
        "    y_label=np.zeros((len(hard_tri),1))#y用不着\n",
        "    xx = [\n",
        "          hard_tri[:,0,:,:,:],\n",
        "          hard_tri[:,1,:,:,:],\n",
        "          hard_tri[:,2,:,:,:]\n",
        "    ]\n",
        "    # model.load_weights('/content/gdrive/MyDrive/CM/new_CNN_weight.h5')\n",
        "    mm.fit(x=xx,y=y_label,batch_size=25,epochs=50,shuffle=True,callbacks=[model_checkpoint, early_stopping, batch_print_callback])\n",
        "    # model.save('/content/gdrive/MyDrive/CM/weight_folder/new_dataset_triplet_weight_alpha0.3.h5')"
      ],
      "execution_count": null,
      "outputs": []
    },
    {
      "cell_type": "code",
      "metadata": {
        "id": "CWzQNENDqlIO"
      },
      "source": [
        "def use_val(train_X,train_Y,val_X,val_Y,model):\n",
        "  pred = test_predict(train_X,train_Y,val_X,model)\n",
        "  pred = to_categorical(pred)\n",
        "  cm,oa,kappa = get_cm_oa_kappa(val_Y,pred)\n",
        "  return oa"
      ],
      "execution_count": null,
      "outputs": []
    },
    {
      "cell_type": "code",
      "metadata": {
        "colab": {
          "base_uri": "https://localhost:8080/"
        },
        "id": "jugl-nYZtTTL",
        "outputId": "6de71440-d159-4898-cd7b-32eb98bfc511"
      },
      "source": [
        "############################################\n",
        "Smodel = feature_extraction_CNN_tri(inputshape,n_filters=64)"
      ],
      "execution_count": null,
      "outputs": [
        {
          "output_type": "stream",
          "text": [
            "输出向量维度：(None, 256)\n"
          ],
          "name": "stdout"
        }
      ]
    },
    {
      "cell_type": "code",
      "metadata": {
        "id": "V5WkmYgHtnhc"
      },
      "source": [
        "train_model(X_train,Y_train,Smodel,alpha=0)"
      ],
      "execution_count": null,
      "outputs": []
    },
    {
      "cell_type": "code",
      "metadata": {
        "id": "EEL-4_kJ4WQ1"
      },
      "source": [
        "def test_predict(train_X,train_Y,test_X,model):\n",
        "  train_X_embed = model.predict(train_X)\n",
        "  test_X_embed = model.predict(test_X)\n",
        "  pred_class = []\n",
        "  for i in range(0,test_X_embed.shape[0]):\n",
        "    #计算到各个类别的距离\n",
        "    dist_mat = tf.reduce_sum(tf.square(tf.subtract(test_X_embed[i],train_X_embed)),axis=-1)\n",
        "    index = int(np.where(dist_mat == np.min(dist_mat))[0])\n",
        "    classes = Y_train[index]\n",
        "    pred_class.append(classes)\n",
        "  return pred_class\n"
      ],
      "execution_count": null,
      "outputs": []
    },
    {
      "cell_type": "code",
      "metadata": {
        "colab": {
          "base_uri": "https://localhost:8080/"
        },
        "id": "NgvgXHrRpdN9",
        "outputId": "47ce07cd-4234-40fc-9e81-3cdfb78ef2da"
      },
      "source": [
        "######################################测试集测试预训练模型\n",
        "Tmodel=feature_extraction_CNN_tri(inputshape)\n",
        "weight_ = '/content/gdrive/MyDrive/CM/weight_folder/zhangbei_triplet_weight_alpha=0.h5'\n",
        "Tmodel.load_weights(weight_,by_name=True)\n",
        "\n",
        "#/content/gdrive/MyDrive/CM/weight_folder/zhangbei_triplet_weight_RMSprop_alpha=1.h5   76%\n",
        "#/content/gdrive/MyDrive/CM/weight_folder/zhangbei_triplet_weight_RMSprop_alpha=0.h5   81.77%\n",
        "#/content/gdrive/MyDrive/CM/weight_folder/zhangbei_triplet_weight_alpha=0.h5       82.15%\n",
        "#/content/gdrive/MyDrive/CM/weight_folder/zhangbei_triplet_weight_alpha=0.5.h5      79.65%\n",
        "#/content/gdrive/MyDrive/CM/weight_folder/zhangbei_triplet_weight_Nodropout_alpha=0.2.h5 78.89%\n",
        "#'/content/gdrive/MyDrive/CM/weight_folder/zhangbei_triplet_weight_Nodropout_alpha=0.h5' 78%\n",
        "#‘/content/gdrive/MyDrive/CM/weight_folder/zhangbei_triplet_weight_alpha=0_2.h5'    "
      ],
      "execution_count": null,
      "outputs": [
        {
          "output_type": "stream",
          "text": [
            "输出向量维度：(None, 256)\n"
          ],
          "name": "stdout"
        }
      ]
    },
    {
      "cell_type": "code",
      "metadata": {
        "id": "IfU17Imac2Ev"
      },
      "source": [
        "pred = test_predict(X_train,Y_train,X_test,Tmodel)"
      ],
      "execution_count": null,
      "outputs": []
    },
    {
      "cell_type": "code",
      "metadata": {
        "id": "N_w6GBvohFRM"
      },
      "source": [
        "pred1 = to_categorical(pred)"
      ],
      "execution_count": null,
      "outputs": []
    },
    {
      "cell_type": "code",
      "metadata": {
        "colab": {
          "base_uri": "https://localhost:8080/"
        },
        "id": "6IC3QJAcfsep",
        "outputId": "a593bef6-ed68-4a7c-b08d-2ffef13cf03a"
      },
      "source": [
        "cm, oa, kappa = get_cm_oa_kappa(Y_test, pred1)\n",
        "print('acc: {:.2f}%  Kappa: {:.4f}'.format(oa,kappa))\n",
        "print('acc: {:2f}%'.format(oa))"
      ],
      "execution_count": null,
      "outputs": [
        {
          "output_type": "stream",
          "text": [
            "acc: 78.89%  Kappa: 0.7477\n",
            "acc: 78.886756%\n"
          ],
          "name": "stdout"
        }
      ]
    },
    {
      "cell_type": "code",
      "metadata": {
        "id": "lts628C_f6VX"
      },
      "source": [
        ""
      ],
      "execution_count": null,
      "outputs": []
    }
  ]
}