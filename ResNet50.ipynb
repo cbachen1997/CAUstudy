{
  "nbformat": 4,
  "nbformat_minor": 0,
  "metadata": {
    "colab": {
      "name": "ResNet50.ipynb",
      "provenance": [],
      "collapsed_sections": [],
      "authorship_tag": "ABX9TyN8k3i0aNpx3TV64KNfMwq3",
      "include_colab_link": true
    },
    "kernelspec": {
      "name": "python3",
      "display_name": "Python 3"
    },
    "accelerator": "GPU"
  },
  "cells": [
    {
      "cell_type": "markdown",
      "metadata": {
        "id": "view-in-github",
        "colab_type": "text"
      },
      "source": [
        "<a href=\"https://colab.research.google.com/github/cbachen1997/CAUstudy/blob/master/ResNet50.ipynb\" target=\"_parent\"><img src=\"https://colab.research.google.com/assets/colab-badge.svg\" alt=\"Open In Colab\"/></a>"
      ]
    },
    {
      "cell_type": "code",
      "metadata": {
        "id": "y1GHjzIuP5HL",
        "colab_type": "code",
        "colab": {}
      },
      "source": [
        "#挂载谷歌云盘\n",
        "from google.colab import drive\n",
        "drive.mount('/content/gdrive')\n",
        "####google云盘授权#####\n",
        "##每个notebook执行一次###\n",
        "__author__='CBA'\n",
        "from google.colab import drive\n",
        "\n",
        "#增加PyDrive操作库\n",
        "from pydrive.auth import GoogleAuth\n",
        "from pydrive.drive import GoogleDrive\n",
        "from google.colab import auth\n",
        "from oauth2client.client import GoogleCredentials\n",
        "\n",
        "#授权登录\n",
        "auth.authenticate_user()\n",
        "gauth=GoogleAuth()\n",
        "gauth.credentials=GoogleCredentials.get_application_default()\n",
        "drive=GoogleDrive(gauth)"
      ],
      "execution_count": null,
      "outputs": []
    },
    {
      "cell_type": "code",
      "metadata": {
        "id": "eB70pWRNP9PO",
        "colab_type": "code",
        "colab": {}
      },
      "source": [
        "#更改运行目录\n",
        "import os\n",
        "os.chdir(\"/content/gdrive/My Drive/AndrewNgTest/SmileFaceReco\")"
      ],
      "execution_count": 34,
      "outputs": []
    },
    {
      "cell_type": "code",
      "metadata": {
        "id": "YhCLy-PWP9wp",
        "colab_type": "code",
        "colab": {}
      },
      "source": [
        "#ResNet\n",
        "import numpy as np\n",
        "#import tensorflow as tf\n",
        "import tensorflow.compat.v1 as tf\n",
        "tf.disable_v2_behavior()\n",
        "\n",
        "from keras import layers\n",
        "from keras.layers import Input, Add, Dense, Activation, ZeroPadding2D, BatchNormalization, Flatten, Conv2D, AveragePooling2D, MaxPooling2D, GlobalMaxPooling2D\n",
        "from keras.models import Model, load_model\n",
        "from keras.preprocessing import image\n",
        "from keras.utils import layer_utils\n",
        "from keras.utils.data_utils import get_file\n",
        "from keras.applications.imagenet_utils import preprocess_input\n",
        "from keras.utils.vis_utils import model_to_dot\n",
        "from keras.utils import plot_model\n",
        "from keras.initializers import glorot_uniform\n",
        "\n",
        "import pydot\n",
        "from IPython.display import SVG\n",
        "import scipy.misc\n",
        "from matplotlib.pyplot import imshow\n",
        "import keras.backend as K\n",
        "K.set_image_data_format('channels_last')\n",
        "K.set_learning_phase(1)\n",
        "\n",
        "import resnets_utils "
      ],
      "execution_count": 6,
      "outputs": []
    },
    {
      "cell_type": "code",
      "metadata": {
        "id": "kxGCFG0fT-r6",
        "colab_type": "code",
        "colab": {}
      },
      "source": [
        "def identity_block(X, f, filters, stage, block):\n",
        "    \"\"\"\n",
        "    实现图3的恒等块\n",
        "    \n",
        "    参数：\n",
        "        X - 输入的tensor类型的数据，维度为( m, n_H_prev, n_W_prev, n_H_prev )\n",
        "        f - 整数，指定主路径中间的CONV窗口的维度\n",
        "        filters - 整数列表，定义了主路径每层的卷积层的过滤器数量\n",
        "        stage - 整数，根据每层的位置来命名每一层，与block参数一起使用。\n",
        "        block - 字符串，据每层的位置来命名每一层，与stage参数一起使用。\n",
        "        \n",
        "    返回：\n",
        "        X - 恒等块的输出，tensor类型，维度为(n_H, n_W, n_C)\n",
        "    \n",
        "    \"\"\"\n",
        "    \n",
        "    #定义命名规则\n",
        "    conv_name_base = \"res\" + str(stage) + block + \"_branch\"\n",
        "    bn_name_base   = \"bn\"  + str(stage) + block + \"_branch\"\n",
        "    \n",
        "    #获取过滤器\n",
        "    F1, F2, F3 = filters\n",
        "    \n",
        "    #保存输入数据，将会用于为主路径添加捷径\n",
        "    X_shortcut = X\n",
        "    \n",
        "    #主路径的第一部分\n",
        "    ##卷积层\n",
        "    X = Conv2D(filters=F1, kernel_size=(1,1), strides=(1,1) ,padding=\"valid\",\n",
        "               name=conv_name_base+\"2a\", kernel_initializer=glorot_uniform(seed=0))(X)\n",
        "    ##归一化\n",
        "    X = BatchNormalization(axis=3,name=bn_name_base+\"2a\")(X)\n",
        "    ##使用ReLU激活函数\n",
        "    X = Activation(\"relu\")(X)\n",
        "    \n",
        "    #主路径的第二部分\n",
        "    ##卷积层\n",
        "    X = Conv2D(filters=F2, kernel_size=(f,f),strides=(1,1), padding=\"same\",\n",
        "               name=conv_name_base+\"2b\", kernel_initializer=glorot_uniform(seed=0))(X)\n",
        "    ##归一化\n",
        "    X = BatchNormalization(axis=3,name=bn_name_base+\"2b\")(X)\n",
        "    ##使用ReLU激活函数\n",
        "    X = Activation(\"relu\")(X)\n",
        "    \n",
        "    \n",
        "    #主路径的第三部分\n",
        "    ##卷积层\n",
        "    X = Conv2D(filters=F3, kernel_size=(1,1), strides=(1,1), padding=\"valid\",\n",
        "               name=conv_name_base+\"2c\", kernel_initializer=glorot_uniform(seed=0))(X)\n",
        "    ##归一化\n",
        "    X = BatchNormalization(axis=3,name=bn_name_base+\"2c\")(X)\n",
        "    ##没有ReLU激活函数\n",
        "    \n",
        "    #最后一步：\n",
        "    ##将捷径与输入加在一起\n",
        "    X = Add()([X,X_shortcut])\n",
        "    ##使用ReLU激活函数\n",
        "    X = Activation(\"relu\")(X)\n",
        "    \n",
        "    return X"
      ],
      "execution_count": 11,
      "outputs": []
    },
    {
      "cell_type": "code",
      "metadata": {
        "id": "b_Q0X25ycAD-",
        "colab_type": "code",
        "colab": {}
      },
      "source": [
        "#残差块，维度发生改变，需要通过调节维度\n",
        "def convolutional_block(X, f, filters, stage, block, s=2):\n",
        "    \"\"\"\n",
        "    实现图5的卷积块\n",
        "    \n",
        "    参数：\n",
        "        X - 输入的tensor类型的变量，维度为( m, n_H_prev, n_W_prev, n_C_prev)\n",
        "        f - 整数，指定主路径中间的CONV窗口的维度\n",
        "        filters - 整数列表，定义了主路径每层的卷积层的过滤器数量\n",
        "        stage - 整数，根据每层的位置来命名每一层，与block参数一起使用。\n",
        "        block - 字符串，据每层的位置来命名每一层，与stage参数一起使用。\n",
        "        s - 整数，指定要使用的步幅\n",
        "    \n",
        "    返回：\n",
        "        X - 卷积块的输出，tensor类型，维度为(n_H, n_W, n_C)\n",
        "    \"\"\"\n",
        "    \n",
        "    #定义命名规则\n",
        "    conv_name_base = \"res\" + str(stage) + block + \"_branch\"\n",
        "    bn_name_base   = \"bn\"  + str(stage) + block + \"_branch\"\n",
        "    \n",
        "    #获取过滤器数量\n",
        "    F1, F2, F3 = filters#(64,64,256)\n",
        "    \n",
        "    #保存输入数据\n",
        "    X_shortcut = X\n",
        "    \n",
        "    #主路径\n",
        "    ##主路径第一部分\n",
        "    X = Conv2D(filters=F1, kernel_size=(1,1), strides=(s,s), padding=\"valid\",\n",
        "               name=conv_name_base+\"2a\", kernel_initializer=glorot_uniform(seed=0))(X)\n",
        "    X = BatchNormalization(axis=3,name=bn_name_base+\"2a\")(X)\n",
        "    X = Activation(\"relu\")(X)\n",
        "    \n",
        "    ##主路径第二部分\n",
        "    X = Conv2D(filters=F2, kernel_size=(f,f), strides=(1,1), padding=\"same\",\n",
        "               name=conv_name_base+\"2b\", kernel_initializer=glorot_uniform(seed=0))(X)\n",
        "    X = BatchNormalization(axis=3,name=bn_name_base+\"2b\")(X)\n",
        "    X = Activation(\"relu\")(X)\n",
        "    \n",
        "    ##主路径第三部分\n",
        "    X = Conv2D(filters=F3, kernel_size=(1,1), strides=(1,1), padding=\"valid\",\n",
        "               name=conv_name_base+\"2c\", kernel_initializer=glorot_uniform(seed=0))(X)\n",
        "    X = BatchNormalization(axis=3,name=bn_name_base+\"2c\")(X)\n",
        "    \n",
        "    #捷径，1X1卷积修正维度\n",
        "    X_shortcut = Conv2D(filters=F3, kernel_size=(1,1), strides=(s,s), padding=\"valid\",\n",
        "               name=conv_name_base+\"1\", kernel_initializer=glorot_uniform(seed=0))(X_shortcut)\n",
        "    X_shortcut = BatchNormalization(axis=3,name=bn_name_base+\"1\")(X_shortcut)\n",
        "    \n",
        "    #最后一步\n",
        "    X = Add()([X,X_shortcut])\n",
        "    X = Activation(\"relu\")(X)\n",
        "    \n",
        "    return X"
      ],
      "execution_count": 8,
      "outputs": []
    },
    {
      "cell_type": "code",
      "metadata": {
        "id": "GTzCyzgmgc3p",
        "colab_type": "code",
        "colab": {}
      },
      "source": [
        "#50层ResNet\n",
        "def ResNet50(input_shape=(64,64,3),classes=6):\n",
        "    \"\"\"\n",
        "    实现ResNet50\n",
        "    CONV2D -> BATCHNORM -> RELU -> MAXPOOL -> CONVBLOCK -> IDBLOCK*2 -> CONVBLOCK -> IDBLOCK*3\n",
        "    -> CONVBLOCK -> IDBLOCK*5 -> CONVBLOCK -> IDBLOCK*2 -> AVGPOOL -> TOPLAYER\n",
        "    \n",
        "    参数：\n",
        "        input_shape - 图像数据集的维度\n",
        "        classes - 整数，分类数\n",
        "        \n",
        "    返回：\n",
        "        model - Keras框架的模型\n",
        "        \n",
        "    \"\"\"\n",
        "    #定义tensor类型的输入数据\n",
        "    X_input = Input(input_shape)\n",
        "    #0填充变为(70,70,3)\n",
        "    X = ZeroPadding2D((3,3))(X_input)\n",
        "    #stage1\n",
        "    #same卷积，\n",
        "    X = Conv2D(filters=64, kernel_size=(7,7), strides=(2,2), name=\"conv1\",\n",
        "               kernel_initializer=glorot_uniform(seed=0))(X)\n",
        "    #（32，32，64）\n",
        "    X = BatchNormalization(axis=3, name=\"bn_conv1\")(X)\n",
        "    X = Activation(\"relu\")(X)\n",
        "    X = MaxPooling2D(pool_size=(3,3), strides=(2,2))(X)\n",
        "    #(16,16,64)\n",
        "\n",
        "    #stage2,残差1次，恒等2次\n",
        "    #残差块利用s大小降长宽\n",
        "    X = convolutional_block(X, f=3, filters=[64,64,256], stage=2, block=\"a\", s=1)\n",
        "    #(16,16,256)\n",
        "    X = identity_block(X, f=3, filters=[64,64,256], stage=2, block=\"b\")\n",
        "    X = identity_block(X, f=3, filters=[64,64,256], stage=2, block=\"c\")\n",
        "\n",
        "    #stage3\n",
        "    X = convolutional_block(X, f=3, filters=[128,128,512], stage=3, block=\"a\", s=2)\n",
        "    #(8,8,512)\n",
        "    X = identity_block(X, f=3, filters=[128,128,512], stage=3, block=\"b\")\n",
        "    X = identity_block(X, f=3, filters=[128,128,512], stage=3, block=\"c\")\n",
        "    X = identity_block(X, f=3, filters=[128,128,512], stage=3, block=\"d\")\n",
        "\n",
        "    #stage4\n",
        "    X = convolutional_block(X, f=3, filters=[256,256,1024], stage=4, block=\"a\", s=2)\n",
        "    #(4,4,1024)\n",
        "    X = identity_block(X, f=3, filters=[256,256,1024], stage=4, block=\"b\")\n",
        "    X = identity_block(X, f=3, filters=[256,256,1024], stage=4, block=\"c\")\n",
        "    X = identity_block(X, f=3, filters=[256,256,1024], stage=4, block=\"d\")\n",
        "    X = identity_block(X, f=3, filters=[256,256,1024], stage=4, block=\"e\")\n",
        "    X = identity_block(X, f=3, filters=[256,256,1024], stage=4, block=\"f\")\n",
        "\n",
        "    #stage5\n",
        "    X = convolutional_block(X, f=3, filters=[512,512,2048], stage=5, block=\"a\", s=2)\n",
        "    #(2,2,2048)\n",
        "    X = identity_block(X, f=3, filters=[512,512,2048], stage=5, block=\"b\")\n",
        "    X = identity_block(X, f=3, filters=[512,512,2048], stage=5, block=\"c\")\n",
        "    \n",
        "    #均值池化\n",
        "    X = AveragePooling2D(pool_size=(2,2),padding=\"same\")(X)\n",
        "    #(2,2,2048)\n",
        "    #矢量化\n",
        "    X = Flatten()(X)\n",
        "    #（4，2048）\n",
        "    #全连接层classes=6，6个节点\n",
        "    X = Dense(classes, activation=\"softmax\", name=\"fc\"+str(classes),\n",
        "              kernel_initializer=glorot_uniform(seed=0))(X)\n",
        "    #创建模型\n",
        "    model = Model(inputs=X_input, outputs=X, name=\"ResNet50\")\n",
        "    \n",
        "    return model"
      ],
      "execution_count": 12,
      "outputs": []
    },
    {
      "cell_type": "code",
      "metadata": {
        "id": "PySThdQYkj6G",
        "colab_type": "code",
        "colab": {}
      },
      "source": [
        "model = ResNet50(input_shape=(64,64,3),classes=6)\n",
        "#adam梯度下降，类别交叉熵损失函数，精度评价\n",
        "model.compile(optimizer=\"adam\", loss=\"categorical_crossentropy\", metrics=[\"accuracy\"])"
      ],
      "execution_count": 13,
      "outputs": []
    },
    {
      "cell_type": "code",
      "metadata": {
        "id": "EwpMtr2EgVrY",
        "colab_type": "code",
        "colab": {}
      },
      "source": [
        "X_train_orig, Y_train_orig, X_test_orig, Y_test_orig, classes = resnets_utils.load_dataset()\n",
        "\n",
        "# Normalize image vectors\n",
        "X_train = X_train_orig / 255.\n",
        "X_test = X_test_orig / 255.\n",
        "\n",
        "# Convert training and test labels to one hot matrices\n",
        "Y_train = resnets_utils.convert_to_one_hot(Y_train_orig, 6).T\n",
        "Y_test = resnets_utils.convert_to_one_hot(Y_test_orig, 6).T\n",
        "\n",
        "print(\"number of training examples = \" + str(X_train.shape[0]))\n",
        "print(\"number of test examples = \" + str(X_test.shape[0]))\n",
        "print(\"X_train shape: \" + str(X_train.shape))\n",
        "print(\"Y_train shape: \" + str(Y_train.shape))\n",
        "print(\"X_test shape: \" + str(X_test.shape))\n",
        "print(\"Y_test shape: \" + str(Y_test.shape))"
      ],
      "execution_count": null,
      "outputs": []
    },
    {
      "cell_type": "code",
      "metadata": {
        "id": "IY1nTQ_x4Ruv",
        "colab_type": "code",
        "colab": {
          "base_uri": "https://localhost:8080/",
          "height": 722
        },
        "outputId": "6683b997-e6ce-4594-d0c3-d0dd3af6a739"
      },
      "source": [
        "#训练两代，batchsize=32\n",
        "model.fit(X_train,Y_train,epochs=20,batch_size=32)"
      ],
      "execution_count": 31,
      "outputs": [
        {
          "output_type": "stream",
          "text": [
            "Train on 1080 samples\n",
            "Epoch 1/20\n",
            "1080/1080 [==============================] - 5s 4ms/sample - loss: 0.0648 - acc: 0.9778\n",
            "Epoch 2/20\n",
            "1080/1080 [==============================] - 5s 4ms/sample - loss: 0.0787 - acc: 0.9750\n",
            "Epoch 3/20\n",
            "1080/1080 [==============================] - 5s 4ms/sample - loss: 0.1241 - acc: 0.9630\n",
            "Epoch 4/20\n",
            "1080/1080 [==============================] - 5s 4ms/sample - loss: 0.0909 - acc: 0.9731\n",
            "Epoch 5/20\n",
            "1080/1080 [==============================] - 5s 4ms/sample - loss: 0.0129 - acc: 0.9954\n",
            "Epoch 6/20\n",
            "1080/1080 [==============================] - 5s 4ms/sample - loss: 0.0807 - acc: 0.9815\n",
            "Epoch 7/20\n",
            "1080/1080 [==============================] - 5s 4ms/sample - loss: 0.0761 - acc: 0.9759\n",
            "Epoch 8/20\n",
            "1080/1080 [==============================] - 5s 4ms/sample - loss: 0.0484 - acc: 0.9815\n",
            "Epoch 9/20\n",
            "1080/1080 [==============================] - 5s 4ms/sample - loss: 0.0215 - acc: 0.9917\n",
            "Epoch 10/20\n",
            "1080/1080 [==============================] - 5s 4ms/sample - loss: 0.0590 - acc: 0.9889\n",
            "Epoch 11/20\n",
            "1080/1080 [==============================] - 5s 4ms/sample - loss: 0.0963 - acc: 0.9704\n",
            "Epoch 12/20\n",
            "1080/1080 [==============================] - 5s 4ms/sample - loss: 0.0514 - acc: 0.9861\n",
            "Epoch 13/20\n",
            "1080/1080 [==============================] - 5s 4ms/sample - loss: 0.0144 - acc: 0.9944\n",
            "Epoch 14/20\n",
            "1080/1080 [==============================] - 5s 4ms/sample - loss: 0.0530 - acc: 0.9870\n",
            "Epoch 15/20\n",
            "1080/1080 [==============================] - 5s 4ms/sample - loss: 0.0341 - acc: 0.9917\n",
            "Epoch 16/20\n",
            "1080/1080 [==============================] - 5s 4ms/sample - loss: 0.1638 - acc: 0.9537\n",
            "Epoch 17/20\n",
            "1080/1080 [==============================] - 5s 4ms/sample - loss: 0.0857 - acc: 0.9759\n",
            "Epoch 18/20\n",
            "1080/1080 [==============================] - 5s 4ms/sample - loss: 0.0933 - acc: 0.9741\n",
            "Epoch 19/20\n",
            "1080/1080 [==============================] - 5s 4ms/sample - loss: 0.0217 - acc: 0.9889\n",
            "Epoch 20/20\n",
            "1080/1080 [==============================] - 5s 4ms/sample - loss: 0.0360 - acc: 0.9898\n"
          ],
          "name": "stdout"
        },
        {
          "output_type": "execute_result",
          "data": {
            "text/plain": [
              "<tensorflow.python.keras.callbacks.History at 0x7f018ed76668>"
            ]
          },
          "metadata": {
            "tags": []
          },
          "execution_count": 31
        }
      ]
    },
    {
      "cell_type": "code",
      "metadata": {
        "id": "DNkk47KJ4fYV",
        "colab_type": "code",
        "colab": {
          "base_uri": "https://localhost:8080/",
          "height": 50
        },
        "outputId": "a3e4da5e-f4bf-4fb9-bfd9-3148e79fa5f7"
      },
      "source": [
        "preds = model.evaluate(X_test,Y_test)\n",
        "\n",
        "print(\"误差值 = \" + str(preds[0]))\n",
        "print(\"准确率 = \" + str(preds[1]))"
      ],
      "execution_count": 32,
      "outputs": [
        {
          "output_type": "stream",
          "text": [
            "误差值 = 0.09918823540210724\n",
            "准确率 = 0.96666664\n"
          ],
          "name": "stdout"
        }
      ]
    },
    {
      "cell_type": "code",
      "metadata": {
        "id": "pdQk5QaJ4qJ7",
        "colab_type": "code",
        "colab": {
          "base_uri": "https://localhost:8080/",
          "height": 353
        },
        "outputId": "309e1d60-0e56-46c9-b57c-78e1e92451c8"
      },
      "source": [
        "from PIL import Image\n",
        "import matplotlib.image as mpimg\n",
        "import numpy as np\n",
        "import matplotlib.pyplot as plt # plt 用于显示图片\n",
        "\n",
        "%matplotlib inline\n",
        "\n",
        "img_path = '0.jpg'\n",
        "\n",
        "my_image = image.load_img(img_path, target_size=(64, 64))\n",
        "my_image = image.img_to_array(my_image)\n",
        "\n",
        "my_image = np.expand_dims(my_image,axis=0)\n",
        "my_image = my_image/255\n",
        "\n",
        "print(\"my_image.shape = \" + str(my_image.shape))\n",
        "\n",
        "print(\"class prediction vector [p(0), p(1), p(2), p(3), p(4), p(5)] = \")\n",
        "print(model.predict(my_image))\n",
        "print('识别结果为：'+ str(np.argmax(model.predict(my_image))))\n",
        "\n",
        "\n",
        "my_image = mpimg.imread(img_path)\n",
        "plt.imshow(my_image)"
      ],
      "execution_count": 35,
      "outputs": [
        {
          "output_type": "stream",
          "text": [
            "my_image.shape = (1, 64, 64, 3)\n",
            "class prediction vector [p(0), p(1), p(2), p(3), p(4), p(5)] = \n",
            "[[0.9634057  0.01215955 0.00842678 0.00203334 0.01135314 0.00262139]]\n",
            "识别结果为：0\n"
          ],
          "name": "stdout"
        },
        {
          "output_type": "execute_result",
          "data": {
            "text/plain": [
              "<matplotlib.image.AxesImage at 0x7f018eae8278>"
            ]
          },
          "metadata": {
            "tags": []
          },
          "execution_count": 35
        },
        {
          "output_type": "display_data",
          "data": {
            "image/png": "[encoded data removed]",
            "text/plain": [
              "<Figure size 432x288 with 1 Axes>"
            ]
          },
          "metadata": {
            "tags": [],
            "needs_background": "light"
          }
        }
      ]
    }
  ]
}