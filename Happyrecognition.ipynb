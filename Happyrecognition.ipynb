{
  "nbformat": 4,
  "nbformat_minor": 0,
  "metadata": {
    "colab": {
      "name": "Happyrecognition.ipynb",
      "provenance": [],
      "authorship_tag": "ABX9TyNYpaJgin8Y8TpEoMMuy8YF",
      "include_colab_link": true
    },
    "kernelspec": {
      "name": "python3",
      "display_name": "Python 3"
    }
  },
  "cells": [
    {
      "cell_type": "markdown",
      "metadata": {
        "id": "view-in-github",
        "colab_type": "text"
      },
      "source": [
        "<a href=\"https://colab.research.google.com/github/cbachen1997/CAUstudy/blob/master/Happyrecognition.ipynb\" target=\"_parent\"><img src=\"https://colab.research.google.com/assets/colab-badge.svg\" alt=\"Open In Colab\"/></a>"
      ]
    },
    {
      "cell_type": "code",
      "metadata": {
        "id": "RSsdGJ4F7T-B",
        "colab_type": "code",
        "colab": {}
      },
      "source": [
        "#挂载谷歌云盘\n",
        "from google.colab import drive\n",
        "drive.mount('/content/gdrive')"
      ],
      "execution_count": null,
      "outputs": []
    },
    {
      "cell_type": "code",
      "metadata": {
        "id": "1XgtqKk37g4D",
        "colab_type": "code",
        "colab": {}
      },
      "source": [
        "####google云盘授权#####\n",
        "##每个notebook执行一次###\n",
        "__author__='CBA'\n",
        "from google.colab import drive\n",
        "\n",
        "#增加PyDrive操作库\n",
        "from pydrive.auth import GoogleAuth\n",
        "from pydrive.drive import GoogleDrive\n",
        "from google.colab import auth\n",
        "from oauth2client.client import GoogleCredentials\n",
        "\n",
        "#授权登录\n",
        "auth.authenticate_user()\n",
        "gauth=GoogleAuth()\n",
        "gauth.credentials=GoogleCredentials.get_application_default()\n",
        "drive=GoogleDrive(gauth)"
      ],
      "execution_count": 2,
      "outputs": []
    },
    {
      "cell_type": "code",
      "metadata": {
        "id": "GrztYJxxMDnU",
        "colab_type": "code",
        "colab": {}
      },
      "source": [
        "#更改运行目录\n",
        "import os\n",
        "os.chdir(\"/content/gdrive/My Drive/AndrewNgTest/SmileFaceReco\")"
      ],
      "execution_count": 42,
      "outputs": []
    },
    {
      "cell_type": "code",
      "metadata": {
        "id": "eMGGlacG8NVJ",
        "colab_type": "code",
        "colab": {}
      },
      "source": [
        "import time\n",
        "import numpy as no\n",
        "#loading keras module\n",
        "from keras import layers\n",
        "from keras.layers import Input, Dense, Activation, ZeroPadding2D, BatchNormalization, Flatten, Conv2D\n",
        "from keras.layers import AveragePooling2D, MaxPooling2D, Dropout, GlobalMaxPooling2D, GlobalAveragePooling2D\n",
        "from keras.models import Model\n",
        "from keras.preprocessing import image\n",
        "from keras.utils import layer_utils\n",
        "from keras.utils.data_utils import get_file\n",
        "from keras.applications.imagenet_utils import preprocess_input\n",
        "#pydot绘制模型\n",
        "import pydot\n",
        "from IPython.display import SVG\n",
        "from keras.utils.vis_utils import model_to_dot\n",
        "from keras.utils import plot_model\n",
        "import kt_utils \n",
        "#导入keras抽象API\n",
        "import keras.backend as K\n",
        "#format有（样本，通道，高，宽）和（样本，高，宽，通道）两种，last是第二种\n",
        "K.set_image_data_format('channels_last')\n",
        "#绘图module\n",
        "import matplotlib.pyplot as plt\n",
        "from matplotlib.pyplot import imshow\n",
        "%matplotlib inline\n",
        "#载入数据集\n",
        "from kt_utils import *\n",
        "from resnets_utils import *"
      ],
      "execution_count": 19,
      "outputs": []
    },
    {
      "cell_type": "code",
      "metadata": {
        "id": "PbHi6C6VLXsh",
        "colab_type": "code",
        "colab": {
          "base_uri": "https://localhost:8080/",
          "height": 118
        },
        "outputId": "b0f8bc16-1c44-472c-ea16-db3772ed4c0f"
      },
      "source": [
        "#加载数据集\n",
        "X_train_orig, Y_train_orig, X_test_orig, Y_test_orig, classes = kt_utils.load_dataset()\n",
        "#归一化\n",
        "X_train = X_train_orig/255.\n",
        "X_test = X_test_orig/255.\n",
        "#reshape\n",
        "Y_train = Y_train_orig.T\n",
        "Y_test = Y_test_orig.T\n",
        "#\n",
        "print (\"number of training examples = \" + str(X_train.shape[0]))\n",
        "print (\"number of test examples = \" + str(X_test.shape[0]))\n",
        "print (\"X_train shape: \" + str(X_train.shape))\n",
        "print (\"Y_train shape: \" + str(Y_train.shape))\n",
        "print (\"X_test shape: \" + str(X_test.shape))\n",
        "print (\"Y_test shape: \" + str(Y_test.shape))"
      ],
      "execution_count": 31,
      "outputs": [
        {
          "output_type": "stream",
          "text": [
            "number of training examples = 600\n",
            "number of test examples = 150\n",
            "X_train shape: (600, 64, 64, 3)\n",
            "Y_train shape: (600, 1)\n",
            "X_test shape: (150, 64, 64, 3)\n",
            "Y_test shape: (150, 1)\n"
          ],
          "name": "stdout"
        }
      ]
    },
    {
      "cell_type": "code",
      "metadata": {
        "id": "wcNpJ95hM56j",
        "colab_type": "code",
        "colab": {}
      },
      "source": [
        "def model(input_shape):\n",
        "    \"\"\"\n",
        "    模型大纲\n",
        "    \"\"\"\n",
        "    #定义一个tensor的placeholder，维度为input_shape\n",
        "    #X_input = Input(input_shape)\n",
        "    \n",
        "    #使用0填充：X_input的周围填充0\n",
        "    #X = ZeroPadding2D((3,3))(X_input)\n",
        "    \n",
        "    # 对X使用 CONV -> BN -> RELU 块\n",
        "    #X = Conv2D(32, (7, 7), strides = (1, 1), name = 'conv0')(X)\n",
        "    #X = BatchNormalization(axis = 3, name = 'bn0')(X)\n",
        "    #X = Activation('relu')(X)\n",
        "    \n",
        "    #最大值池化层\n",
        "    #X = MaxPooling2D((2,2),name=\"max_pool\")(X)\n",
        "    \n",
        "    #降维，矩阵转化为向量 + 全连接层\n",
        "    #X = Flatten()(X)\n",
        "    #X = Dense(1, activation='sigmoid', name='fc')(X)\n",
        "    \n",
        "    #创建模型，讲话创建一个模型的实体，我们可以用它来训练、测试。\n",
        "    #model = Model(inputs = X_input, outputs = X, name='HappyModel')\n",
        "    pass\n",
        "    #return model"
      ],
      "execution_count": 29,
      "outputs": []
    },
    {
      "cell_type": "code",
      "metadata": {
        "id": "CVh_tj7KNs2t",
        "colab_type": "code",
        "colab": {}
      },
      "source": [
        "def HappyModel(input_shape):\n",
        "    \"\"\"\n",
        "    实现一个检测笑容的模型\n",
        "    \n",
        "    参数：\n",
        "        input_shape - 输入的数据的维度\n",
        "    返回：\n",
        "        model - 创建的Keras的模型\n",
        "        \n",
        "    \"\"\"\n",
        "    X_input=Input(input_shape)\n",
        "    #使用0填充：X_input的周围3行3列填充0\n",
        "    X = ZeroPadding2D((3, 3))(X_input)\n",
        "\n",
        "    #对X使用 CONV -> BN -> RELU 块\n",
        "    X = Conv2D(32, (7, 7), strides=(1, 1), name='conv0')(X)\n",
        "    #axis=3为三维\n",
        "    X = BatchNormalization(axis=3, name='bn0')(X)\n",
        "    X = Activation('relu')(X)\n",
        "\n",
        "    #最大值池化层\n",
        "    X = MaxPooling2D((2, 2), name='max_pool')(X)\n",
        "\n",
        "    #降维，矩阵转化为向量 + 全连接层\n",
        "    X = Flatten()(X)\n",
        "    X = Dense(1, activation='sigmoid', name='fc')(X)\n",
        "\n",
        "    #创建模型，讲话创建一个模型的实体，我们可以用它来训练、测试。\n",
        "    model = Model(inputs=X_input, outputs=X, name='HappyModel')\n",
        "\n",
        "    return model"
      ],
      "execution_count": 30,
      "outputs": []
    },
    {
      "cell_type": "code",
      "metadata": {
        "id": "zDa-yBqsPSym",
        "colab_type": "code",
        "colab": {}
      },
      "source": [
        "#创建一个模型实体\n",
        "happy_model = HappyModel(X_train.shape[1:])\n",
        "#编译模型\n",
        "#梯度下降法、二分类交叉熵为代价函数、度量为精度\n",
        "happy_model.compile(\"adam\",\"binary_crossentropy\", metrics=['accuracy'])\n",
        "#训练模型\n",
        "#请注意，此操作会花费你大约6-10分钟。\n",
        "happy_model.fit(X_train, Y_train, epochs=40, batch_size=50)\n",
        "#评估模型\n",
        "preds = happy_model.evaluate(X_test, Y_test, batch_size=32, verbose=1, sample_weight=None)\n",
        "print (\"误差值 = \" + str(preds[0]))\n",
        "print (\"准确度 = \" + str(preds[1]))"
      ],
      "execution_count": null,
      "outputs": []
    },
    {
      "cell_type": "code",
      "metadata": {
        "id": "ptgCFZRKSW0o",
        "colab_type": "code",
        "colab": {
          "base_uri": "https://localhost:8080/",
          "height": 285
        },
        "outputId": "7f79d5a2-5a47-4319-9c76-1393b7a57f35"
      },
      "source": [
        "#网上随便找的图片，侵删\n",
        "img_path = '2.png'\n",
        "\n",
        "img = image.load_img(img_path, target_size=(64, 64))\n",
        "imshow(img)\n",
        "\n",
        "x = image.img_to_array(img)\n",
        "x = np.expand_dims(x, axis=0)\n",
        "x = preprocess_input(x)\n",
        "\n",
        "print(happy_model.predict(x))"
      ],
      "execution_count": 43,
      "outputs": [
        {
          "output_type": "stream",
          "text": [
            "[[1.]]\n"
          ],
          "name": "stdout"
        },
        {
          "output_type": "display_data",
          "data": {
            "image/png": "[encoded data removed]",
            "text/plain": [
              "<Figure size 432x288 with 1 Axes>"
            ]
          },
          "metadata": {
            "tags": [],
            "needs_background": "light"
          }
        }
      ]
    }
  ]
}